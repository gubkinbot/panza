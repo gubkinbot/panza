{
 "cells": [
  {
   "cell_type": "code",
   "execution_count": 1,
   "id": "386eea7d-03b0-48e2-bf9d-9d585c6b725a",
   "metadata": {
    "execution": {
     "iopub.execute_input": "2023-07-04T12:59:36.504462Z",
     "iopub.status.busy": "2023-07-04T12:59:36.504462Z",
     "iopub.status.idle": "2023-07-04T12:59:36.976620Z",
     "shell.execute_reply": "2023-07-04T12:59:36.976620Z",
     "shell.execute_reply.started": "2023-07-04T12:59:36.504462Z"
    }
   },
   "outputs": [],
   "source": [
    "import os\n",
    "import openai"
   ]
  },
  {
   "cell_type": "code",
   "execution_count": 2,
   "id": "bdc7d3d6-94c5-4a25-80f4-c04dd69228f1",
   "metadata": {
    "execution": {
     "iopub.execute_input": "2023-07-04T12:59:41.166452Z",
     "iopub.status.busy": "2023-07-04T12:59:41.166452Z",
     "iopub.status.idle": "2023-07-04T12:59:41.182091Z",
     "shell.execute_reply": "2023-07-04T12:59:41.182091Z",
     "shell.execute_reply.started": "2023-07-04T12:59:41.166452Z"
    }
   },
   "outputs": [],
   "source": [
    "openai.organization = os.getenv(\"OPENAI_ORG\")\n",
    "openai.api_key = os.getenv(\"OPENAI_API_KEY\")"
   ]
  },
  {
   "cell_type": "code",
   "execution_count": 3,
   "id": "e30cb530-74a9-40da-8378-63d21be71c69",
   "metadata": {
    "execution": {
     "iopub.execute_input": "2023-07-04T12:59:42.313406Z",
     "iopub.status.busy": "2023-07-04T12:59:42.313406Z",
     "iopub.status.idle": "2023-07-04T12:59:42.329033Z",
     "shell.execute_reply": "2023-07-04T12:59:42.329033Z",
     "shell.execute_reply.started": "2023-07-04T12:59:42.313406Z"
    }
   },
   "outputs": [],
   "source": [
    "model_1 = 'gpt-4' # GPT-4 8.192 tokens\n",
    "model_2 = 'gpt-4-32k' # GPT-4 32.768 tokens\n",
    "model_3 = 'gpt-3.5-turbo' # GPT-3.5 4.096 tokens\n",
    "model_4 = 'gpt-3.5-turbo-16k' # GPT-3.5 16.384 tokens"
   ]
  },
  {
   "cell_type": "code",
   "execution_count": 4,
   "id": "be68cfbd-dfb7-4b40-9faa-b99c46a54ac7",
   "metadata": {
    "execution": {
     "iopub.execute_input": "2023-07-04T12:59:43.444936Z",
     "iopub.status.busy": "2023-07-04T12:59:43.444936Z",
     "iopub.status.idle": "2023-07-04T12:59:43.476188Z",
     "shell.execute_reply": "2023-07-04T12:59:43.476188Z",
     "shell.execute_reply.started": "2023-07-04T12:59:43.444936Z"
    }
   },
   "outputs": [],
   "source": [
    "text = '''\n",
    "\n",
    "Patterson-UTI Energy and NexTier Oilfield Solutions announced today an agreement to merge the US service companies in an all-stock deal.\n",
    "\n",
    "The transaction will create the second-largest oilfield services company in North America, which will retain the name of Patterson-UTI Energy, with an enterprise value of nearly $5.4 billion.\n",
    "\n",
    "Andy Hendricks, current CEO of Patterson-UTI, will serve as the new company’s CEO which will be headquartered in Houston where both companies are currently based.\n",
    "\n",
    "While speaking with investors about the deal, he said, “This merger will create a comprehensive drilling and completions franchise with a leadership position in contract drilling, pressure pumping, and directional drilling.”\n",
    "\n",
    "Patterson-UTI brings 172 onshore drilling rigs into the new company which makes the most dynamic aspect of the deal around the combination of the two firm’s fracturing fleets.\n",
    "\n",
    "The combined company will boast 45 active pressure pumping fleets, 33 coming from NexTier and 12 from Patterson-UTI’s subsidiary Universal Pressure Pumping.\n",
    "\n",
    "Almost two-thirds of this newly combined fleet will be dual-fuel, or capable of running on both diesel and natural gas. Additionally, Patterson-UTI operates almost 80 rigs that can either be powered by natural gas generators or hybrid-battery systems.\n",
    "\n",
    "NexTier is the result of a 2019 merger between Houston-based service companies C&J Energy Services and Keane Group. The NexTier name will now live on as the combined company’s well completions brand.\n",
    "\n",
    "Robert Drummond, CEO of NexTier, will become the vice chair of the board. He said the chance to expand the company’s market position is what drove it to merge in 2019 and to merge again this week with Patterson-UTI.\n",
    "\n",
    "“NexTier has an extensive track record of participating in successful value creating [mergers and acquisitions] that have allowed us and our counterparties to expand our capabilities, accelerate innovation, better serve customers, and drive value for shareholders,” he said.\n",
    "\n",
    "The two firm’s combined first-quarter revenue of $6.9 billion places the new company on a pro forma basis behind only Halliburton in terms of the highest-revenue-earning service companies in North America. The new company’s plan includes the elimination of overlapping positions and overhead costs which it expects will result in $200 million in annual savings.\n",
    "\n",
    "Terms of the deal include NexTier shareholders receiving 0.752 shares of Patterson-UTI common stock for every share of NexTier stock they hold. Upon close, the new company will be 55% owned by Patterson-UTI shareholders with NexTier shareholders holding the remaining shares.\n",
    "\n",
    "Both companies expect the merger will meet approvals and close by the end of this year.\n",
    "\n",
    "'''"
   ]
  },
  {
   "cell_type": "code",
   "execution_count": 5,
   "id": "33ae71d6-ee4a-4aa4-9a13-7a0c89bd3d93",
   "metadata": {
    "execution": {
     "iopub.execute_input": "2023-07-04T12:59:46.273058Z",
     "iopub.status.busy": "2023-07-04T12:59:46.273058Z",
     "iopub.status.idle": "2023-07-04T13:01:43.313304Z",
     "shell.execute_reply": "2023-07-04T13:01:43.313304Z",
     "shell.execute_reply.started": "2023-07-04T12:59:46.273058Z"
    }
   },
   "outputs": [
    {
     "name": "stdout",
     "output_type": "stream",
     "text": [
      "CPU times: total: 31.2 ms\n",
      "Wall time: 1min 57s\n"
     ]
    },
    {
     "data": {
      "text/plain": [
       "'Компании Patterson-UTI Energy и NexTier Oilfield Solutions объявили сегодня о соглашении о слиянии американских сервисных компаний в рамках сделки с использованием исключительно акций.\\n\\nЭта операция приведет к созданию второй по величине нефтесервисной компании в Северной Америке, которая сохранит название Patterson-UTI Energy и будет обладать общей стоимостью всех активов, примерно равной 5,4 миллиарда долларов.\\n\\nЭнди Хендрикс, нынешний генеральный директор Patterson-UTI, возглавит новую компанию, которая будет базироваться в Хьюстоне, где на данный момент находятся обе компании.\\n\\nОбсуждая сделку с инвесторами, он заявил: «Это слияние породит комплексную буровую и специализированную компанию с лидирующими позициями в области договорного бурения, давления на насосы и направленного бурения».\\n\\nPatterson-UTI вносит в новую компанию 172 наземные буровые установки, что делает самым динамичным элементом сделки объединение двух групп буровых установок фирм.\\n\\nСовмещенная компания будет обладать 45 активными буровыми группами, 33 из которых придут от NexTier, и 12 от дочерней компании Patterson-UTI - Universal Pressure Pumping.\\n\\nПочти две трети этого нового общего флота будет работать на двух топливах, то есть способными работать как на дизеле, так и на природном газе. Кроме того, Patterson-UTI эксплуатирует почти 80 буровых установок, которые могут работать либо от газогенераторов, либо от гибридных батарей.\\n\\nNexTier является результатом слияния в 2019 году сервисных компаний из Хьюстона C&J Energy Services и Keane Group. Название NexTier теперь будет использоваться в качестве бренда завершения скважин совмещенной компании.\\n\\nРоберт Драммонд, генеральный директор NexTier, станет вице-председателем совета директоров. Он заявил, что возможность расширить позиции компании на рынке подтолкнула ее к слиянию в 2019 году и к повторному слиянию на этой неделе с Patterson-UTI.\\n\\n«У NexTier есть обширный опыт участия в успешных [слияниях и поглощениях], которые позволили нам и нашим контрагентам расширить наши возможности, ускорить инновации, лучше обслуживать клиентов и создавать ценность для акционеров», - сказал он.\\n\\nСовокупная выручка двух фирм за первый квартал в размере 6,9 миллиарда долларов ставит новую компанию на второе место после Halliburton среди сервисных компаний в Северной Америке с наибольшими выручками. Планы новой компании включают устранение перекрывающихся должностей и накладных расходов, что, как ожидается, приведет к ежегодной экономии в размере 200 миллионов долларов.\\n\\nУсловия сделки предусматривают, что акционеры NexTier получат 0,752 акции обычной акции Patterson-UTI за каждую акцию NexTier, которую они владеют. По окончании сделки новая компания будет на 55% принадлежать акционерам Patterson-UTI, а акционеры NexTier будут владеть остальными акциями.\\n\\nОбе компании ожидают, что слияние будет одобрено и завершено до конца этого года.\\n'"
      ]
     },
     "execution_count": 5,
     "metadata": {},
     "output_type": "execute_result"
    }
   ],
   "source": [
    "%%time\n",
    "response = openai.ChatCompletion.create(model='gpt-4',\n",
    "                                        messages=[\n",
    "                                            {'role': \"user\", \"content\": 'Pleace, translate to Russian: ' + text},\n",
    "                                        ])\n",
    "response['choices'][0]['message']['content']"
   ]
  },
  {
   "cell_type": "code",
   "execution_count": 6,
   "id": "068cd133-801f-4589-b62e-bf3ac0bce72f",
   "metadata": {
    "execution": {
     "iopub.execute_input": "2023-07-04T13:01:43.313304Z",
     "iopub.status.busy": "2023-07-04T13:01:43.313304Z",
     "iopub.status.idle": "2023-07-04T13:01:43.328967Z",
     "shell.execute_reply": "2023-07-04T13:01:43.328967Z",
     "shell.execute_reply.started": "2023-07-04T13:01:43.313304Z"
    }
   },
   "outputs": [
    {
     "name": "stdout",
     "output_type": "stream",
     "text": [
      "Компании Patterson-UTI Energy и NexTier Oilfield Solutions объявили сегодня о соглашении о слиянии американских сервисных компаний в рамках сделки с использованием исключительно акций.\n",
      "\n",
      "Эта операция приведет к созданию второй по величине нефтесервисной компании в Северной Америке, которая сохранит название Patterson-UTI Energy и будет обладать общей стоимостью всех активов, примерно равной 5,4 миллиарда долларов.\n",
      "\n",
      "Энди Хендрикс, нынешний генеральный директор Patterson-UTI, возглавит новую компанию, которая будет базироваться в Хьюстоне, где на данный момент находятся обе компании.\n",
      "\n",
      "Обсуждая сделку с инвесторами, он заявил: «Это слияние породит комплексную буровую и специализированную компанию с лидирующими позициями в области договорного бурения, давления на насосы и направленного бурения».\n",
      "\n",
      "Patterson-UTI вносит в новую компанию 172 наземные буровые установки, что делает самым динамичным элементом сделки объединение двух групп буровых установок фирм.\n",
      "\n",
      "Совмещенная компания будет обладать 45 активными буровыми группами, 33 из которых придут от NexTier, и 12 от дочерней компании Patterson-UTI - Universal Pressure Pumping.\n",
      "\n",
      "Почти две трети этого нового общего флота будет работать на двух топливах, то есть способными работать как на дизеле, так и на природном газе. Кроме того, Patterson-UTI эксплуатирует почти 80 буровых установок, которые могут работать либо от газогенераторов, либо от гибридных батарей.\n",
      "\n",
      "NexTier является результатом слияния в 2019 году сервисных компаний из Хьюстона C&J Energy Services и Keane Group. Название NexTier теперь будет использоваться в качестве бренда завершения скважин совмещенной компании.\n",
      "\n",
      "Роберт Драммонд, генеральный директор NexTier, станет вице-председателем совета директоров. Он заявил, что возможность расширить позиции компании на рынке подтолкнула ее к слиянию в 2019 году и к повторному слиянию на этой неделе с Patterson-UTI.\n",
      "\n",
      "«У NexTier есть обширный опыт участия в успешных [слияниях и поглощениях], которые позволили нам и нашим контрагентам расширить наши возможности, ускорить инновации, лучше обслуживать клиентов и создавать ценность для акционеров», - сказал он.\n",
      "\n",
      "Совокупная выручка двух фирм за первый квартал в размере 6,9 миллиарда долларов ставит новую компанию на второе место после Halliburton среди сервисных компаний в Северной Америке с наибольшими выручками. Планы новой компании включают устранение перекрывающихся должностей и накладных расходов, что, как ожидается, приведет к ежегодной экономии в размере 200 миллионов долларов.\n",
      "\n",
      "Условия сделки предусматривают, что акционеры NexTier получат 0,752 акции обычной акции Patterson-UTI за каждую акцию NexTier, которую они владеют. По окончании сделки новая компания будет на 55% принадлежать акционерам Patterson-UTI, а акционеры NexTier будут владеть остальными акциями.\n",
      "\n",
      "Обе компании ожидают, что слияние будет одобрено и завершено до конца этого года.\n",
      "\n"
     ]
    }
   ],
   "source": [
    "print(response['choices'][0]['message']['content'])"
   ]
  },
  {
   "cell_type": "code",
   "execution_count": 7,
   "id": "418cf046-3508-4ca5-ae2f-d370a79f10ff",
   "metadata": {
    "execution": {
     "iopub.execute_input": "2023-07-04T13:01:43.328967Z",
     "iopub.status.busy": "2023-07-04T13:01:43.328967Z",
     "iopub.status.idle": "2023-07-04T13:03:07.745500Z",
     "shell.execute_reply": "2023-07-04T13:03:07.745500Z",
     "shell.execute_reply.started": "2023-07-04T13:01:43.328967Z"
    }
   },
   "outputs": [
    {
     "name": "stdout",
     "output_type": "stream",
     "text": [
      "CPU times: total: 0 ns\n",
      "Wall time: 1min 24s\n"
     ]
    },
    {
     "data": {
      "text/plain": [
       "'Сегодня компании Patterson-UTI Energy и NexTier Oilfield Solutions объявили о соглашении о слиянии американских сервисных компаний по схеме обмена акций.\\n\\nСделка приведет к созданию второго по величине в Северной Америке сервисного предприятия в нефтегазовом секторе, которое сохранит название Patterson-UTI Energy и будет оцениваться примерно в 5,4 млрд долларов.\\n\\nАнди Хендрикс, нынешний генеральный директор Patterson-UTI, станет генеральным директором новой компании, головной офис которой будет размещен в Хьюстоне, где в настоящее время базируются обе компании.\\n\\nPatterson-UTI приведет в новую компанию 172 буровые установки на суше, что делает самым динамичным аспектом сделки вокруг объединения буровых флотов двух компаний.\\n\\nСовмещенная компания будет иметь 45 активных флотов насосного давления, 33 из которых приходятся на NexTier и 12 на дочернюю компанию Patterson-UTI - Universal Pressure Pumping.\\n\\nПримерно две трети нового объединенного флота будут дуального топлива, то есть способны работать как на дизельном топливе, так и на природном газе. Кроме того, Patterson-UTI управляет почти 80 буровыми установками, которые могут быть запитаны либо от генераторов на природном газе, либо от гибридных аккумуляторных систем.\\n\\nСлияние компаний NexTier и Patterson-UTI приведет к увеличению доли рынка и созданию единых сервисов для клиентов, что стало основной причиной для слияния компаний в 2019 году и повторного слияния в этом году. \\n\\nУсловия сделки предусматривают, что акционеры NexTier получат 0,752 акции обыкновенных акций Patterson-UTI за каждую акцию NexTier. После завершения сделки 55% новой компании будут принадлежать акционерам Patterson-UTI, а акционеры NexTier будут владеть оставшимися акциями.\\n\\nОбе компании ожидают, что слияние будет утверждено и завершено до конца этого года.\\n\\nВ общем, американские сервисные компании Patterson-UTI Energy и NexTier Oilfield Solutions объявили о слиянии. Новая компания, которая сохранит название Patterson-UTI Energy, станет второй по величине в нефтегазовом секторе в Северной Америке с рыночной стоимостью около 5,4 млрд долларов. Генеральным директором компании станет Анди Хендрикс. По условиям сделки акционеры NexTier получат 0,752 акции Patterson-UTI за каждую свою акцию. Ожидается, что сделка будет завершена к концу текущего года.\\n'"
      ]
     },
     "execution_count": 7,
     "metadata": {},
     "output_type": "execute_result"
    }
   ],
   "source": [
    "%%time\n",
    "response = openai.ChatCompletion.create(model='gpt-4',\n",
    "                                        messages=[\n",
    "                                            {'role': \"user\", \"content\": 'Pleace, translate to Russian and summarize: ' + text},\n",
    "                                        ])\n",
    "response['choices'][0]['message']['content']"
   ]
  },
  {
   "cell_type": "code",
   "execution_count": null,
   "id": "1d1d99e5-9a2f-4273-9727-7d5830436e67",
   "metadata": {},
   "outputs": [],
   "source": []
  },
  {
   "cell_type": "code",
   "execution_count": null,
   "id": "2908ff4b-84f9-44b7-a3cf-6cd0d566a4a9",
   "metadata": {},
   "outputs": [],
   "source": []
  },
  {
   "cell_type": "code",
   "execution_count": null,
   "id": "578035f8-52f0-4a16-b486-e3e9741dbc03",
   "metadata": {},
   "outputs": [],
   "source": []
  },
  {
   "cell_type": "code",
   "execution_count": null,
   "id": "f08b5445-9d94-46d0-9f12-d26a5b09b463",
   "metadata": {},
   "outputs": [],
   "source": []
  },
  {
   "cell_type": "code",
   "execution_count": null,
   "id": "41a0e1f6-d216-4e6e-89a3-fcf347ac4d1d",
   "metadata": {},
   "outputs": [],
   "source": []
  }
 ],
 "metadata": {
  "kernelspec": {
   "display_name": "Python 3 (ipykernel)",
   "language": "python",
   "name": "python3"
  },
  "language_info": {
   "codemirror_mode": {
    "name": "ipython",
    "version": 3
   },
   "file_extension": ".py",
   "mimetype": "text/x-python",
   "name": "python",
   "nbconvert_exporter": "python",
   "pygments_lexer": "ipython3",
   "version": "3.10.11"
  }
 },
 "nbformat": 4,
 "nbformat_minor": 5
}
