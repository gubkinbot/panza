{
 "cells": [
  {
   "cell_type": "code",
   "execution_count": 1,
   "id": "73b7a06a-e2ba-441f-9e02-fed8ee934eb5",
   "metadata": {
    "execution": {
     "iopub.execute_input": "2023-06-19T09:02:26.544657Z",
     "iopub.status.busy": "2023-06-19T09:02:26.544657Z",
     "iopub.status.idle": "2023-06-19T09:02:26.842779Z",
     "shell.execute_reply": "2023-06-19T09:02:26.842779Z",
     "shell.execute_reply.started": "2023-06-19T09:02:26.544657Z"
    }
   },
   "outputs": [],
   "source": [
    "import requests\n",
    "from bs4 import BeautifulSoup"
   ]
  },
  {
   "cell_type": "code",
   "execution_count": 2,
   "id": "dd3a2f0e-69da-4f01-9bc9-a5f97a021d38",
   "metadata": {
    "execution": {
     "iopub.execute_input": "2023-06-19T09:02:27.282492Z",
     "iopub.status.busy": "2023-06-19T09:02:27.282492Z",
     "iopub.status.idle": "2023-06-19T09:02:27.298115Z",
     "shell.execute_reply": "2023-06-19T09:02:27.298115Z",
     "shell.execute_reply.started": "2023-06-19T09:02:27.282492Z"
    }
   },
   "outputs": [],
   "source": [
    "headers = {'User-Agent': 'Mozilla/5.0 (Windows NT 10.0; Win64; x64) AppleWebKit/537.36 (KHTML, like Gecko) Chrome/91.0.4472.124 Safari/537.36'}"
   ]
  },
  {
   "cell_type": "code",
   "execution_count": 3,
   "id": "a24a6853-debf-450c-b889-c88869268a40",
   "metadata": {
    "execution": {
     "iopub.execute_input": "2023-06-19T09:02:27.690901Z",
     "iopub.status.busy": "2023-06-19T09:02:27.690901Z",
     "iopub.status.idle": "2023-06-19T09:02:27.706493Z",
     "shell.execute_reply": "2023-06-19T09:02:27.706493Z",
     "shell.execute_reply.started": "2023-06-19T09:02:27.690901Z"
    }
   },
   "outputs": [],
   "source": [
    "url = 'https://jpt.spe.org/latest-news'"
   ]
  },
  {
   "cell_type": "code",
   "execution_count": 4,
   "id": "644ca7e7-e631-4d65-9e65-2a0b3570520a",
   "metadata": {
    "execution": {
     "iopub.execute_input": "2023-06-19T09:02:28.068005Z",
     "iopub.status.busy": "2023-06-19T09:02:28.068005Z",
     "iopub.status.idle": "2023-06-19T09:02:30.174591Z",
     "shell.execute_reply": "2023-06-19T09:02:30.174591Z",
     "shell.execute_reply.started": "2023-06-19T09:02:28.068005Z"
    }
   },
   "outputs": [],
   "source": [
    "response = requests.get(url, headers=headers)"
   ]
  },
  {
   "cell_type": "code",
   "execution_count": 5,
   "id": "d553e6db-1cda-4e15-93a1-95ccf466c3e4",
   "metadata": {
    "execution": {
     "iopub.execute_input": "2023-06-19T09:02:30.174591Z",
     "iopub.status.busy": "2023-06-19T09:02:30.174591Z",
     "iopub.status.idle": "2023-06-19T09:02:30.331475Z",
     "shell.execute_reply": "2023-06-19T09:02:30.331475Z",
     "shell.execute_reply.started": "2023-06-19T09:02:30.174591Z"
    }
   },
   "outputs": [],
   "source": [
    "soup = BeautifulSoup(response.text, 'html.parser')"
   ]
  },
  {
   "cell_type": "code",
   "execution_count": 6,
   "id": "6d130d57-b723-4222-b504-a639a7aa8552",
   "metadata": {
    "execution": {
     "iopub.execute_input": "2023-06-19T09:02:30.331475Z",
     "iopub.status.busy": "2023-06-19T09:02:30.331475Z",
     "iopub.status.idle": "2023-06-19T09:02:30.347520Z",
     "shell.execute_reply": "2023-06-19T09:02:30.347520Z",
     "shell.execute_reply.started": "2023-06-19T09:02:30.331475Z"
    },
    "scrolled": true
   },
   "outputs": [],
   "source": [
    "news_elements = soup.find_all('div', class_='PromoB')  # Replace with the appropriate HTML tag and class"
   ]
  },
  {
   "cell_type": "code",
   "execution_count": 9,
   "id": "159b8fff-4c69-4198-bb18-6ae5ff7d7de2",
   "metadata": {
    "execution": {
     "iopub.execute_input": "2023-06-19T09:02:54.835118Z",
     "iopub.status.busy": "2023-06-19T09:02:54.835118Z",
     "iopub.status.idle": "2023-06-19T09:02:54.866388Z",
     "shell.execute_reply": "2023-06-19T09:02:54.866388Z",
     "shell.execute_reply.started": "2023-06-19T09:02:54.835118Z"
    }
   },
   "outputs": [
    {
     "name": "stdout",
     "output_type": "stream",
     "text": [
      "Title: SPE Journal Issues Call for Papers for the Lower-Carbon Prospects of Petroleum Engineering Special Issue\n",
      "Summary: SPE Journal is now accepting papers for a new special issue focused on Lower-Carbon Prospects of Petroleum Engineering. Submissions are invited about novel research on petroleum engineering aspects of lower-carbon energy production, emphasizing subsurface technologies related to CCUS, geothermal energy, subsurface hydrogen, offshore energy facilities, and other lower-…\n",
      "---\n",
      "Title: Patterson-UTI and NextTier Merge To Create a New Oilfield Services Giant\n",
      "Summary: The US-based drilling contractor and well completions company will combine to form the second-biggest service company in North America.\n",
      "---\n",
      "Title: Earthstone Scoops Permian Rival Novo for $1.5 Billion\n",
      "Summary: A concurrent deal to sell off some of the acquired assets to Northern Oil and Gas will effectively lower the acquisition cost to $1 billion.\n",
      "---\n",
      "Title: Permian Gas Flowing at Record Highs\n",
      "Summary: A slate of new pipeline projects are expected to help relieve the oil-rich region's associated gas bottleneck.\n",
      "---\n",
      "Title: Atlas Energy’s Dune Express Proppant Conveyor Rolling Into the Permian Basin\n",
      "Summary: The first long-haul overland conveyor system to deliver proppant is under construction in the Permian Basin.\n",
      "---\n",
      "Title: When It Comes To Plugging Leaks, Some Scaling Could Be Good\n",
      "Summary: In an industry where methane leaks and carbon dioxide storage are increasingly important concerns, finding new ways to seal leaks is a valuable skill.\n",
      "---\n",
      "Title: How Digital Innovation Is Transforming the Pore Pressure and Fracture Gradient Work Flow\n",
      "Summary: Despite energy companies' enthusiasm for implementing digital technologies in drilling analysis, many predictions still include a high level of uncertainty.\n",
      "---\n",
      "Title: Flaring-Mitigation Technology Fuels Particle Collider Research at MIT\n",
      "Summary: The startup known for helping introduce Bitcoin mining to the upstream industry is now also offering cloud computing using associated gas.\n",
      "---\n",
      "Title: Tracking the Energy Transition: Walmart Drives Toward Zero Emissions and Sigma Shifts to Green Lithium\n",
      "Summary: In the world of wind, Equinor has postponed its initiative indefinitely while Repsol moves ahead in Italy, and Portugal plans to auction offshore leases for wind farms.\n",
      "---\n",
      "Title: Engineer Raises Climate Science Above the Din\n",
      "Summary: A retired petroleum engineer read the 2021 report on climate change from the UN Intergovernmental Panel on Climate Change and offers his insights on the complexities and nuances of climate science.\n",
      "---\n",
      "Title: Decommissioning Contracts Awarded for Projects Offshore Australia and the US Gulf Coast\n",
      "Summary: Woodside Energy awards all contracts for major work at multiple fields, while Helix Energy secures significant plugging and abandonment job on the Gulf of Mexico shelf.\n",
      "---\n",
      "Title: Missing in the Montney: Unreported Wet Gas Skews Picture of Canada’s Premier Shale Play\n",
      "Summary: Enverus claims hundreds of millions of barrels of gas condensates are nowhere to be found in public data due to a major reporting gap.\n",
      "---\n"
     ]
    }
   ],
   "source": [
    "news_array = []\n",
    "for news_element in news_elements:\n",
    "    title = news_element.find('div', class_='PromoB-title').get_text(strip=True)\n",
    "    summary = news_element.find('div', class_='PromoB-description').get_text(strip=True)\n",
    "\n",
    "    news = {'title': title, 'summary': summary}\n",
    "\n",
    "    news_array.append(news)\n",
    "    \n",
    "for news in news_array:\n",
    "    print('Title:', news['title'])\n",
    "    print('Summary:', news['summary'])\n",
    "    print('---')"
   ]
  },
  {
   "cell_type": "code",
   "execution_count": null,
   "id": "7ea97c05-18da-478a-a73e-b2b45fc545cf",
   "metadata": {},
   "outputs": [],
   "source": []
  },
  {
   "cell_type": "code",
   "execution_count": null,
   "id": "51156a46-df27-4d78-8ba9-d88bd01d4a50",
   "metadata": {},
   "outputs": [],
   "source": []
  }
 ],
 "metadata": {
  "kernelspec": {
   "display_name": "Python 3 (ipykernel)",
   "language": "python",
   "name": "python3"
  },
  "language_info": {
   "codemirror_mode": {
    "name": "ipython",
    "version": 3
   },
   "file_extension": ".py",
   "mimetype": "text/x-python",
   "name": "python",
   "nbconvert_exporter": "python",
   "pygments_lexer": "ipython3",
   "version": "3.10.11"
  }
 },
 "nbformat": 4,
 "nbformat_minor": 5
}
