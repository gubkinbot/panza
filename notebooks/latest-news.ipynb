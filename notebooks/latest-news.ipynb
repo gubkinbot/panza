{
 "cells": [
  {
   "cell_type": "code",
   "execution_count": 1,
   "id": "73b7a06a-e2ba-441f-9e02-fed8ee934eb5",
   "metadata": {
    "execution": {
     "iopub.execute_input": "2023-06-19T12:10:51.413499Z",
     "iopub.status.busy": "2023-06-19T12:10:51.413499Z",
     "iopub.status.idle": "2023-06-19T12:10:52.177437Z",
     "shell.execute_reply": "2023-06-19T12:10:52.177437Z",
     "shell.execute_reply.started": "2023-06-19T12:10:51.413499Z"
    }
   },
   "outputs": [],
   "source": [
    "import requests\n",
    "from bs4 import BeautifulSoup\n",
    "import telebot\n",
    "import os\n",
    "import openai"
   ]
  },
  {
   "cell_type": "code",
   "execution_count": 2,
   "id": "c7220ac7-ca6d-4eef-a7b8-742d9e741987",
   "metadata": {
    "execution": {
     "iopub.execute_input": "2023-06-19T12:10:53.244486Z",
     "iopub.status.busy": "2023-06-19T12:10:53.244486Z",
     "iopub.status.idle": "2023-06-19T12:10:53.260112Z",
     "shell.execute_reply": "2023-06-19T12:10:53.260112Z",
     "shell.execute_reply.started": "2023-06-19T12:10:53.244486Z"
    }
   },
   "outputs": [],
   "source": [
    "openai.organization = os.getenv(\"OPENAI_ORG\")\n",
    "openai.api_key = os.getenv(\"OPENAI_API_KEY\")"
   ]
  },
  {
   "cell_type": "markdown",
   "id": "d6706459-ffc9-45c5-af94-63d2dd183059",
   "metadata": {},
   "source": [
    "Читаем страницу последних новостей => Получаем список трех последних новостей => Читаем эти новости => Извлекаем суть => Форматируем результат и отправляем в телеграм"
   ]
  },
  {
   "cell_type": "code",
   "execution_count": 108,
   "id": "0420b37a-1522-49ef-ab79-a14aa10a70d3",
   "metadata": {
    "execution": {
     "iopub.execute_input": "2023-06-19T11:09:11.951393Z",
     "iopub.status.busy": "2023-06-19T11:09:11.951393Z",
     "iopub.status.idle": "2023-06-19T11:09:11.982938Z",
     "shell.execute_reply": "2023-06-19T11:09:11.982938Z",
     "shell.execute_reply.started": "2023-06-19T11:09:11.951393Z"
    }
   },
   "outputs": [],
   "source": [
    "bot = telebot.TeleBot(os.getenv(\"PANZA_TG_TOKEN\"))\n",
    "username = os.getenv(\"MY_TG_USERNAME\")"
   ]
  },
  {
   "cell_type": "code",
   "execution_count": 14,
   "id": "dd3a2f0e-69da-4f01-9bc9-a5f97a021d38",
   "metadata": {
    "execution": {
     "iopub.execute_input": "2023-06-19T10:36:26.928168Z",
     "iopub.status.busy": "2023-06-19T10:36:26.928168Z",
     "iopub.status.idle": "2023-06-19T10:36:26.946583Z",
     "shell.execute_reply": "2023-06-19T10:36:26.944364Z",
     "shell.execute_reply.started": "2023-06-19T10:36:26.928168Z"
    }
   },
   "outputs": [],
   "source": [
    "headers = {'User-Agent': 'Mozilla/5.0 (Windows NT 10.0; Win64; x64) AppleWebKit/537.36 (KHTML, like Gecko) Chrome/91.0.4472.124 Safari/537.36'}"
   ]
  },
  {
   "cell_type": "code",
   "execution_count": 15,
   "id": "a24a6853-debf-450c-b889-c88869268a40",
   "metadata": {
    "execution": {
     "iopub.execute_input": "2023-06-19T10:36:28.390755Z",
     "iopub.status.busy": "2023-06-19T10:36:28.390755Z",
     "iopub.status.idle": "2023-06-19T10:36:28.407422Z",
     "shell.execute_reply": "2023-06-19T10:36:28.406358Z",
     "shell.execute_reply.started": "2023-06-19T10:36:28.390755Z"
    }
   },
   "outputs": [],
   "source": [
    "url = 'https://jpt.spe.org/latest-news'"
   ]
  },
  {
   "cell_type": "code",
   "execution_count": 16,
   "id": "644ca7e7-e631-4d65-9e65-2a0b3570520a",
   "metadata": {
    "execution": {
     "iopub.execute_input": "2023-06-19T10:36:29.914230Z",
     "iopub.status.busy": "2023-06-19T10:36:29.914230Z",
     "iopub.status.idle": "2023-06-19T10:36:32.554907Z",
     "shell.execute_reply": "2023-06-19T10:36:32.554907Z",
     "shell.execute_reply.started": "2023-06-19T10:36:29.914230Z"
    }
   },
   "outputs": [],
   "source": [
    "response = requests.get(url, headers=headers)"
   ]
  },
  {
   "cell_type": "code",
   "execution_count": 17,
   "id": "d553e6db-1cda-4e15-93a1-95ccf466c3e4",
   "metadata": {
    "execution": {
     "iopub.execute_input": "2023-06-19T10:36:33.042170Z",
     "iopub.status.busy": "2023-06-19T10:36:33.042170Z",
     "iopub.status.idle": "2023-06-19T10:36:33.151394Z",
     "shell.execute_reply": "2023-06-19T10:36:33.151394Z",
     "shell.execute_reply.started": "2023-06-19T10:36:33.042170Z"
    }
   },
   "outputs": [],
   "source": [
    "soup = BeautifulSoup(response.text, 'html.parser')"
   ]
  },
  {
   "cell_type": "code",
   "execution_count": 18,
   "id": "6d130d57-b723-4222-b504-a639a7aa8552",
   "metadata": {
    "execution": {
     "iopub.execute_input": "2023-06-19T10:36:34.549848Z",
     "iopub.status.busy": "2023-06-19T10:36:34.549848Z",
     "iopub.status.idle": "2023-06-19T10:36:34.581099Z",
     "shell.execute_reply": "2023-06-19T10:36:34.581099Z",
     "shell.execute_reply.started": "2023-06-19T10:36:34.549848Z"
    },
    "scrolled": true
   },
   "outputs": [],
   "source": [
    "news_elements = soup.find_all('div', class_='PromoB')  # Replace with the appropriate HTML tag and class"
   ]
  },
  {
   "cell_type": "code",
   "execution_count": 19,
   "id": "159b8fff-4c69-4198-bb18-6ae5ff7d7de2",
   "metadata": {
    "execution": {
     "iopub.execute_input": "2023-06-19T10:36:35.634006Z",
     "iopub.status.busy": "2023-06-19T10:36:35.634006Z",
     "iopub.status.idle": "2023-06-19T10:36:35.651806Z",
     "shell.execute_reply": "2023-06-19T10:36:35.649596Z",
     "shell.execute_reply.started": "2023-06-19T10:36:35.634006Z"
    }
   },
   "outputs": [
    {
     "name": "stdout",
     "output_type": "stream",
     "text": [
      "Title: SPE Journal Issues Call for Papers for the Lower-Carbon Prospects of Petroleum Engineering Special Issue\n",
      "Summary: SPE Journal is now accepting papers for a new special issue focused on Lower-Carbon Prospects of Petroleum Engineering. Submissions are invited about novel research on petroleum engineering aspects of lower-carbon energy production, emphasizing subsurface technologies related to CCUS, geothermal energy, subsurface hydrogen, offshore energy facilities, and other lower-…\n",
      "Line: June 15, 2023\n",
      "---\n",
      "Title: Patterson-UTI and NextTier Merge To Create a New Oilfield Services Giant\n",
      "Summary: The US-based drilling contractor and well completions company will combine to form the second-biggest service company in North America.\n",
      "Line: June 15, 2023\n",
      "---\n",
      "Title: Earthstone Scoops Permian Rival Novo for $1.5 Billion\n",
      "Summary: A concurrent deal to sell off some of the acquired assets to Northern Oil and Gas will effectively lower the acquisition cost to $1 billion.\n",
      "Line: June 15, 2023\n",
      "---\n",
      "Title: Permian Gas Flowing at Record Highs\n",
      "Summary: A slate of new pipeline projects are expected to help relieve the oil-rich region's associated gas bottleneck.\n",
      "Line: June 14, 2023\n",
      "---\n",
      "Title: Atlas Energy’s Dune Express Proppant Conveyor Rolling Into the Permian Basin\n",
      "Summary: The first long-haul overland conveyor system to deliver proppant is under construction in the Permian Basin.\n",
      "Line: June 14, 2023\n",
      "---\n",
      "Title: When It Comes To Plugging Leaks, Some Scaling Could Be Good\n",
      "Summary: In an industry where methane leaks and carbon dioxide storage are increasingly important concerns, finding new ways to seal leaks is a valuable skill.\n",
      "Line: June 9, 2023\n",
      "---\n",
      "Title: How Digital Innovation Is Transforming the Pore Pressure and Fracture Gradient Work Flow\n",
      "Summary: Despite energy companies' enthusiasm for implementing digital technologies in drilling analysis, many predictions still include a high level of uncertainty.\n",
      "Line: June 8, 2023\n",
      "---\n",
      "Title: Flaring-Mitigation Technology Fuels Particle Collider Research at MIT\n",
      "Summary: The startup known for helping introduce Bitcoin mining to the upstream industry is now also offering cloud computing using associated gas.\n",
      "Line: June 7, 2023\n",
      "---\n",
      "Title: Tracking the Energy Transition: Walmart Drives Toward Zero Emissions and Sigma Shifts to Green Lithium\n",
      "Summary: In the world of wind, Equinor has postponed its initiative indefinitely while Repsol moves ahead in Italy, and Portugal plans to auction offshore leases for wind farms.\n",
      "Line: June 6, 2023\n",
      "---\n",
      "Title: Engineer Raises Climate Science Above the Din\n",
      "Summary: A retired petroleum engineer read the 2021 report on climate change from the UN Intergovernmental Panel on Climate Change and offers his insights on the complexities and nuances of climate science.\n",
      "Line: June 6, 2023\n",
      "---\n",
      "Title: Decommissioning Contracts Awarded for Projects Offshore Australia and the US Gulf Coast\n",
      "Summary: Woodside Energy awards all contracts for major work at multiple fields, while Helix Energy secures significant plugging and abandonment job on the Gulf of Mexico shelf.\n",
      "Line: June 1, 2023\n",
      "---\n",
      "Title: Missing in the Montney: Unreported Wet Gas Skews Picture of Canada’s Premier Shale Play\n",
      "Summary: Enverus claims hundreds of millions of barrels of gas condensates are nowhere to be found in public data due to a major reporting gap.\n",
      "Line: June 1, 2023\n",
      "---\n"
     ]
    }
   ],
   "source": [
    "news_array = []\n",
    "for news_element in news_elements:\n",
    "    title = news_element.find('div', class_='PromoB-title').get_text(strip=True)\n",
    "    summary = news_element.find('div', class_='PromoB-description').get_text(strip=True)\n",
    "    line = news_element.find('div', class_='PromoB-by-line').get_text(strip=True).split('•')[0].lstrip().rstrip()\n",
    "\n",
    "    news = {'title': title, 'summary': summary, 'line': line}\n",
    "\n",
    "    news_array.append(news)\n",
    "\n",
    "for news in news_array:\n",
    "    print('Title:', news['title'])\n",
    "    print('Summary:', news['summary'])\n",
    "    print('Line:', news['line'])\n",
    "    print('---')"
   ]
  },
  {
   "cell_type": "code",
   "execution_count": 36,
   "id": "16bfc7e8-d513-42db-9ed2-35356f7f1494",
   "metadata": {
    "execution": {
     "iopub.execute_input": "2023-06-19T10:39:15.112019Z",
     "iopub.status.busy": "2023-06-19T10:39:15.112019Z",
     "iopub.status.idle": "2023-06-19T10:39:15.143549Z",
     "shell.execute_reply": "2023-06-19T10:39:15.143549Z",
     "shell.execute_reply.started": "2023-06-19T10:39:15.112019Z"
    }
   },
   "outputs": [
    {
     "data": {
      "text/plain": [
       "<div class=\"PromoB\" data-content-type=\"article\" data-image-align=\"right\" data-image-size=\"\">\n",
       "<div class=\"PromoB-content\">\n",
       "<div class=\"PromoB-media\">\n",
       "<a aria-label=\"Missing in the Montney: Unreported Wet Gas Skews Picture of Canada’s Premier Shale Play  \" class=\"Link\" data-cms-ai=\"0\" href=\"https://jpt.spe.org/missing-in-the-montney-unreported-wet-gas-skews-picture-of-canadas-premier-shale-play\">\n",
       "<img alt=\"British Columbia Natural Gas Liquids Plant North Montney shale formation Alaska Highway\" class=\"Image\" data-image-size=\"promoSearch\" data-lazy-load=\"true\" data-src=\"https://assets.spe.org/dims4/default/3e300b0/2147483647/strip/true/crop/4215x2356+0+227/resize/365x204!/quality/90/?url=http%3A%2F%2Fspe-brightspot.s3.amazonaws.com%2Ffc%2Fca%2F9fbfe85f4ce68ffd025514af3748%2Fjpt-23-montney-shale-gas-wells.jpg\" height=\"204\" src=\"data:image/gif;base64,R0lGODlhAQABAAAAACH5BAEKAAEALAAAAAABAAEAAAICTAEAOw==\" width=\"365\"/>\n",
       "</a>\n",
       "</div>\n",
       "<div class=\"PromoB-category\">\n",
       "<a class=\"Link\" data-cms-ai=\"0\" href=\"https://jpt.spe.org/topic/unconventional-complex-reservoirs\">Unconventional/complex reservoirs</a>\n",
       "</div>\n",
       "<div class=\"PromoB-title\">\n",
       "<a class=\"Link\" data-cms-ai=\"0\" href=\"https://jpt.spe.org/missing-in-the-montney-unreported-wet-gas-skews-picture-of-canadas-premier-shale-play\">Missing in the Montney: Unreported Wet Gas Skews Picture of Canada’s Premier Shale Play  </a>\n",
       "</div>\n",
       "<div class=\"PromoB-description\">Enverus claims hundreds of millions of barrels of gas condensates are nowhere to be found in public data due to a major reporting gap.</div>\n",
       "<div class=\"PromoB-footer\">\n",
       "<div class=\"PromoB-by-line\">June 1, 2023 • Trent Jacobs\n",
       "                     • <a class=\"PromoB-publication\" data-cms-ai=\"0\" href=\"http://www.spe.org/publications/subscribe.php\">Journal of Petroleum Technology</a>\n",
       "</div>\n",
       "</div>\n",
       "</div>\n",
       "</div>"
      ]
     },
     "execution_count": 36,
     "metadata": {},
     "output_type": "execute_result"
    }
   ],
   "source": [
    "news_element"
   ]
  },
  {
   "cell_type": "code",
   "execution_count": 37,
   "id": "f3106d7d-565d-4374-8c56-c3461dd67dec",
   "metadata": {
    "execution": {
     "iopub.execute_input": "2023-06-19T10:39:25.367293Z",
     "iopub.status.busy": "2023-06-19T10:39:25.367293Z",
     "iopub.status.idle": "2023-06-19T10:39:25.399642Z",
     "shell.execute_reply": "2023-06-19T10:39:25.398315Z",
     "shell.execute_reply.started": "2023-06-19T10:39:25.367293Z"
    }
   },
   "outputs": [
    {
     "data": {
      "text/plain": [
       "[<div class=\"PromoB-title\">\n",
       " <a class=\"Link\" data-cms-ai=\"0\" href=\"https://jpt.spe.org/missing-in-the-montney-unreported-wet-gas-skews-picture-of-canadas-premier-shale-play\">Missing in the Montney: Unreported Wet Gas Skews Picture of Canada’s Premier Shale Play  </a>\n",
       " </div>]"
      ]
     },
     "execution_count": 37,
     "metadata": {},
     "output_type": "execute_result"
    }
   ],
   "source": [
    "news_element.select('div.PromoB-title')"
   ]
  },
  {
   "cell_type": "code",
   "execution_count": 83,
   "id": "6bbabd87-e2c1-4cf8-88db-ece443a90db9",
   "metadata": {
    "execution": {
     "iopub.execute_input": "2023-06-19T10:45:41.985531Z",
     "iopub.status.busy": "2023-06-19T10:45:41.984513Z",
     "iopub.status.idle": "2023-06-19T10:45:41.994956Z",
     "shell.execute_reply": "2023-06-19T10:45:41.993837Z",
     "shell.execute_reply.started": "2023-06-19T10:45:41.985531Z"
    }
   },
   "outputs": [
    {
     "data": {
      "text/plain": [
       "<div class=\"PromoB-title\">\n",
       "<a class=\"Link\" data-cms-ai=\"0\" href=\"https://jpt.spe.org/missing-in-the-montney-unreported-wet-gas-skews-picture-of-canadas-premier-shale-play\">Missing in the Montney: Unreported Wet Gas Skews Picture of Canada’s Premier Shale Play  </a>\n",
       "</div>"
      ]
     },
     "execution_count": 83,
     "metadata": {},
     "output_type": "execute_result"
    }
   ],
   "source": [
    "uuu = news_element.find('div', class_='PromoB-title', )\n",
    "uuu"
   ]
  },
  {
   "cell_type": "code",
   "execution_count": 103,
   "id": "a9df4344-e404-416c-8c78-5c7182de2a87",
   "metadata": {
    "execution": {
     "iopub.execute_input": "2023-06-19T10:47:08.102924Z",
     "iopub.status.busy": "2023-06-19T10:47:08.101919Z",
     "iopub.status.idle": "2023-06-19T10:47:08.119639Z",
     "shell.execute_reply": "2023-06-19T10:47:08.118631Z",
     "shell.execute_reply.started": "2023-06-19T10:47:08.102924Z"
    }
   },
   "outputs": [
    {
     "data": {
      "text/plain": [
       "'https://jpt.spe.org/missing-in-the-montney-unreported-wet-gas-skews-picture-of-canadas-premier-shale-play'"
      ]
     },
     "execution_count": 103,
     "metadata": {},
     "output_type": "execute_result"
    }
   ],
   "source": [
    "uuu.find('a').get(\"href\")"
   ]
  },
  {
   "cell_type": "code",
   "execution_count": 64,
   "id": "746a1ae1-f111-48d0-afe1-426eb0a9e86e",
   "metadata": {
    "execution": {
     "iopub.execute_input": "2023-06-19T10:42:13.137400Z",
     "iopub.status.busy": "2023-06-19T10:42:13.137400Z",
     "iopub.status.idle": "2023-06-19T10:42:13.153136Z",
     "shell.execute_reply": "2023-06-19T10:42:13.153136Z",
     "shell.execute_reply.started": "2023-06-19T10:42:13.137400Z"
    }
   },
   "outputs": [],
   "source": [
    "uuu.get(\"href\")"
   ]
  },
  {
   "cell_type": "code",
   "execution_count": 31,
   "id": "c4ee5b4f-a186-4603-b6af-3f9a4e9ba4ba",
   "metadata": {
    "execution": {
     "iopub.execute_input": "2023-06-19T10:38:53.910022Z",
     "iopub.status.busy": "2023-06-19T10:38:53.910022Z",
     "iopub.status.idle": "2023-06-19T10:38:53.927221Z",
     "shell.execute_reply": "2023-06-19T10:38:53.926100Z",
     "shell.execute_reply.started": "2023-06-19T10:38:53.910022Z"
    }
   },
   "outputs": [],
   "source": [
    "for link in soup.find_all(\"a\"):\n",
    "    href = link.get(\"href\")"
   ]
  },
  {
   "cell_type": "code",
   "execution_count": 32,
   "id": "fde5b963-5319-4c76-bb3f-b837a5266a96",
   "metadata": {
    "execution": {
     "iopub.execute_input": "2023-06-19T10:38:58.764646Z",
     "iopub.status.busy": "2023-06-19T10:38:58.764646Z",
     "iopub.status.idle": "2023-06-19T10:38:58.797549Z",
     "shell.execute_reply": "2023-06-19T10:38:58.795513Z",
     "shell.execute_reply.started": "2023-06-19T10:38:58.764646Z"
    }
   },
   "outputs": [
    {
     "data": {
      "text/plain": [
       "'https://www.linkedin.com/showcase/jpt-journal-of-petroleum-technology/'"
      ]
     },
     "execution_count": 32,
     "metadata": {},
     "output_type": "execute_result"
    }
   ],
   "source": [
    "href"
   ]
  },
  {
   "cell_type": "code",
   "execution_count": 114,
   "id": "c2a22e5b-c9c7-4df3-9e9d-87af1f47eaea",
   "metadata": {
    "execution": {
     "iopub.execute_input": "2023-06-19T11:24:54.729270Z",
     "iopub.status.busy": "2023-06-19T11:24:54.729270Z",
     "iopub.status.idle": "2023-06-19T11:24:55.325806Z",
     "shell.execute_reply": "2023-06-19T11:24:55.325806Z",
     "shell.execute_reply.started": "2023-06-19T11:24:54.729270Z"
    }
   },
   "outputs": [
    {
     "data": {
      "text/plain": [
       "<telebot.types.Message at 0x230ed0fcca0>"
      ]
     },
     "execution_count": 114,
     "metadata": {},
     "output_type": "execute_result"
    }
   ],
   "source": [
    "bot.send_message(263965948, 'Салямчики!')"
   ]
  }
 ],
 "metadata": {
  "kernelspec": {
   "display_name": "Python 3 (ipykernel)",
   "language": "python",
   "name": "python3"
  },
  "language_info": {
   "codemirror_mode": {
    "name": "ipython",
    "version": 3
   },
   "file_extension": ".py",
   "mimetype": "text/x-python",
   "name": "python",
   "nbconvert_exporter": "python",
   "pygments_lexer": "ipython3",
   "version": "3.10.11"
  }
 },
 "nbformat": 4,
 "nbformat_minor": 5
}
