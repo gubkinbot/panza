{
 "cells": [
  {
   "cell_type": "code",
   "execution_count": 1,
   "id": "73b7a06a-e2ba-441f-9e02-fed8ee934eb5",
   "metadata": {
    "execution": {
     "iopub.execute_input": "2023-07-04T13:05:47.906589Z",
     "iopub.status.busy": "2023-07-04T13:05:47.906589Z",
     "iopub.status.idle": "2023-07-04T13:05:57.685647Z",
     "shell.execute_reply": "2023-07-04T13:05:57.685647Z",
     "shell.execute_reply.started": "2023-07-04T13:05:47.906589Z"
    }
   },
   "outputs": [],
   "source": [
    "import requests\n",
    "from bs4 import BeautifulSoup\n",
    "import telebot\n",
    "import os\n",
    "import openai"
   ]
  },
  {
   "cell_type": "code",
   "execution_count": 2,
   "id": "c7220ac7-ca6d-4eef-a7b8-742d9e741987",
   "metadata": {
    "execution": {
     "iopub.execute_input": "2023-07-04T13:05:59.217604Z",
     "iopub.status.busy": "2023-07-04T13:05:59.217604Z",
     "iopub.status.idle": "2023-07-04T13:05:59.226619Z",
     "shell.execute_reply": "2023-07-04T13:05:59.226619Z",
     "shell.execute_reply.started": "2023-07-04T13:05:59.217604Z"
    }
   },
   "outputs": [],
   "source": [
    "openai.organization = os.getenv(\"OPENAI_ORG\")\n",
    "openai.api_key = os.getenv(\"OPENAI_API_KEY\")"
   ]
  },
  {
   "cell_type": "markdown",
   "id": "d6706459-ffc9-45c5-af94-63d2dd183059",
   "metadata": {},
   "source": [
    "Читаем страницу последних новостей => Получаем список трех последних новостей => Читаем эти новости => Извлекаем суть => Форматируем результат и отправляем в телеграм"
   ]
  },
  {
   "cell_type": "code",
   "execution_count": 3,
   "id": "0420b37a-1522-49ef-ab79-a14aa10a70d3",
   "metadata": {
    "execution": {
     "iopub.execute_input": "2023-07-04T13:06:00.921379Z",
     "iopub.status.busy": "2023-07-04T13:06:00.921379Z",
     "iopub.status.idle": "2023-07-04T13:06:00.939042Z",
     "shell.execute_reply": "2023-07-04T13:06:00.939042Z",
     "shell.execute_reply.started": "2023-07-04T13:06:00.921379Z"
    }
   },
   "outputs": [],
   "source": [
    "bot = telebot.TeleBot(os.getenv(\"PANZA_TG_TOKEN\"))\n",
    "username = os.getenv(\"MY_TG_USERNAME\")"
   ]
  },
  {
   "cell_type": "code",
   "execution_count": 4,
   "id": "dd3a2f0e-69da-4f01-9bc9-a5f97a021d38",
   "metadata": {
    "execution": {
     "iopub.execute_input": "2023-07-04T13:06:03.011122Z",
     "iopub.status.busy": "2023-07-04T13:06:03.011122Z",
     "iopub.status.idle": "2023-07-04T13:06:03.028321Z",
     "shell.execute_reply": "2023-07-04T13:06:03.027305Z",
     "shell.execute_reply.started": "2023-07-04T13:06:03.011122Z"
    }
   },
   "outputs": [],
   "source": [
    "headers = {'User-Agent': 'Mozilla/5.0 (Windows NT 10.0; Win64; x64) AppleWebKit/537.36 (KHTML, like Gecko) Chrome/91.0.4472.124 Safari/537.36'}"
   ]
  },
  {
   "cell_type": "code",
   "execution_count": 5,
   "id": "a24a6853-debf-450c-b889-c88869268a40",
   "metadata": {
    "execution": {
     "iopub.execute_input": "2023-07-04T13:06:04.220932Z",
     "iopub.status.busy": "2023-07-04T13:06:04.220932Z",
     "iopub.status.idle": "2023-07-04T13:06:04.237542Z",
     "shell.execute_reply": "2023-07-04T13:06:04.236398Z",
     "shell.execute_reply.started": "2023-07-04T13:06:04.220932Z"
    }
   },
   "outputs": [],
   "source": [
    "url = 'https://jpt.spe.org/latest-news'"
   ]
  },
  {
   "cell_type": "code",
   "execution_count": 6,
   "id": "644ca7e7-e631-4d65-9e65-2a0b3570520a",
   "metadata": {
    "execution": {
     "iopub.execute_input": "2023-07-04T13:06:05.697471Z",
     "iopub.status.busy": "2023-07-04T13:06:05.683959Z",
     "iopub.status.idle": "2023-07-04T13:06:06.655986Z",
     "shell.execute_reply": "2023-07-04T13:06:06.655986Z",
     "shell.execute_reply.started": "2023-07-04T13:06:05.697471Z"
    }
   },
   "outputs": [],
   "source": [
    "response = requests.get(url, headers=headers)"
   ]
  },
  {
   "cell_type": "code",
   "execution_count": 7,
   "id": "d553e6db-1cda-4e15-93a1-95ccf466c3e4",
   "metadata": {
    "execution": {
     "iopub.execute_input": "2023-07-04T13:06:08.603853Z",
     "iopub.status.busy": "2023-07-04T13:06:08.603853Z",
     "iopub.status.idle": "2023-07-04T13:06:08.729883Z",
     "shell.execute_reply": "2023-07-04T13:06:08.729883Z",
     "shell.execute_reply.started": "2023-07-04T13:06:08.603853Z"
    }
   },
   "outputs": [],
   "source": [
    "soup = BeautifulSoup(response.text, 'html.parser')"
   ]
  },
  {
   "cell_type": "code",
   "execution_count": 8,
   "id": "6d130d57-b723-4222-b504-a639a7aa8552",
   "metadata": {
    "execution": {
     "iopub.execute_input": "2023-07-04T13:06:09.955456Z",
     "iopub.status.busy": "2023-07-04T13:06:09.955456Z",
     "iopub.status.idle": "2023-07-04T13:06:09.986750Z",
     "shell.execute_reply": "2023-07-04T13:06:09.986750Z",
     "shell.execute_reply.started": "2023-07-04T13:06:09.955456Z"
    },
    "scrolled": true
   },
   "outputs": [],
   "source": [
    "news_elements = soup.find_all('div', class_='PromoB')  # Replace with the appropriate HTML tag and class"
   ]
  },
  {
   "cell_type": "code",
   "execution_count": 9,
   "id": "159b8fff-4c69-4198-bb18-6ae5ff7d7de2",
   "metadata": {
    "execution": {
     "iopub.execute_input": "2023-07-04T13:06:11.110382Z",
     "iopub.status.busy": "2023-07-04T13:06:11.110382Z",
     "iopub.status.idle": "2023-07-04T13:06:11.158091Z",
     "shell.execute_reply": "2023-07-04T13:06:11.158091Z",
     "shell.execute_reply.started": "2023-07-04T13:06:11.110382Z"
    }
   },
   "outputs": [
    {
     "name": "stdout",
     "output_type": "stream",
     "text": [
      "Title: OneRock Acquires Powder River Player Northwoods\n",
      "Summary: Private-equity producer adds over 160,000 acres in Wyoming’s Powder River Basin oil play.\n",
      "Line: July 3, 2023\n",
      "---\n",
      "Title: BP’s Argos FPU Offers Fresh Lessons for the Future of Deepwater GOM Projects\n",
      "Summary: The supermajor redefined its Mad Dog II development in three key ways: a blank-sheet redesign to cut costs, altering the way it works as a result of the COVID-19 pandemic, and a digital twin offering unique access to the asset from anywhere in the world.\n",
      "Line: July 1, 2023\n",
      "---\n",
      "Title: It’s Possible That Salt Clogging Is Lowering Your Gas Production\n",
      "Summary: A new program offers an affordable way to figure out if salt precipitation could be behind underperforming gas wells and suggests a path to higher production.\n",
      "Line: July 1, 2023\n",
      "---\n",
      "Title: Digital Collaborations Set To Begin Unlocking Production\n",
      "Summary: Leading energy technology companies unite to unlock efficiencies and increase reserve recoveries using digital advances.\n",
      "Line: July 1, 2023\n",
      "---\n",
      "Title: Grand Challenges for the Oil and Gas Industry for the Next Decade and Beyond\n",
      "Summary: A decade ago SPE defined key R&D and technology challenges for the industry. To address the more uncertain environment of the 2020s and beyond, we have updated the grand challenges via a January 2023 SPE workshop.\n",
      "Line: July 1, 2023\n",
      "---\n",
      "Title: CNPC, Sinopec Drill Ultra Deep in Search of Energy Security\n",
      "Summary: CNPC’s record-breaking 11,100-m exploration borehole in the Taklamakan Desert promises to unlock the science of producing oil and gas trapped in the world’s deepest reservoirs.\n",
      "Line: July 1, 2023\n",
      "---\n",
      "Title: Have Offshore Operators Cracked the Code on How To Successfully Run a Megaproject?\n",
      "Summary: Recent developments from Equinor and Murphy Oil Corp. offer hope that the industry is zeroing in the right approach to building megaprojects.\n",
      "Line: July 1, 2023\n",
      "---\n",
      "Title: ExxonMobil Charges Forward Into Lithium Extraction With Latest Deal\n",
      "Summary: A new report said the US supermajor has made its second move in a month to enter the emerging lithium extraction industry.\n",
      "Line: June 29, 2023\n",
      "---\n",
      "Title: SLB and Quorum Software Introduce Field Development Planning Solution\n",
      "Summary: The offering includes automatic evaluation of project economics and enhances collaboration to cut the time required for field development planning by up to 50%, according to the companies.\n",
      "Line: June 29, 2023\n",
      "---\n",
      "Title: Electric Shock: Permian Producers Face Looming Shortfall in Grid Power\n",
      "Summary: New paper warns that meeting emission reduction targets in the top US oil basin will require a fourfold increase in available grid electricity.\n",
      "Line: June 28, 2023\n",
      "---\n",
      "Title: Eni Unloads Congo Oil Assets to Perenco for $300 Million\n",
      "Summary: The transaction is part of a broader strategy by Eni to reduce its oil portfolio in favor of natural gas.\n",
      "Line: June 27, 2023\n",
      "---\n",
      "Title: Cheniere Energy Lands 20-Year LNG Deal With China’s ENN\n",
      "Summary: The deal is expected to support the liquefied natural gas exporter’s Sabine Pass liquefaction expansion project.\n",
      "Line: June 27, 2023\n",
      "---\n"
     ]
    }
   ],
   "source": [
    "news_array = []\n",
    "for news_element in news_elements:\n",
    "    title = news_element.find('div', class_='PromoB-title').get_text(strip=True)\n",
    "    summary = news_element.find('div', class_='PromoB-description').get_text(strip=True)\n",
    "    line = news_element.find('div', class_='PromoB-by-line').get_text(strip=True).split('•')[0].lstrip().rstrip()\n",
    "\n",
    "    news = {'title': title, 'summary': summary, 'line': line}\n",
    "\n",
    "    news_array.append(news)\n",
    "\n",
    "for news in news_array:\n",
    "    print('Title:', news['title'])\n",
    "    print('Summary:', news['summary'])\n",
    "    print('Line:', news['line'])\n",
    "    print('---')"
   ]
  },
  {
   "cell_type": "code",
   "execution_count": null,
   "id": "7f9a599d-ff5f-4aa9-9f49-606b1a5f5af8",
   "metadata": {},
   "outputs": [],
   "source": []
  },
  {
   "cell_type": "code",
   "execution_count": null,
   "id": "f3a7cd4f-625c-4fc9-8631-fabc73203716",
   "metadata": {},
   "outputs": [],
   "source": []
  },
  {
   "cell_type": "code",
   "execution_count": 10,
   "id": "16bfc7e8-d513-42db-9ed2-35356f7f1494",
   "metadata": {
    "execution": {
     "iopub.execute_input": "2023-07-04T13:06:16.582864Z",
     "iopub.status.busy": "2023-07-04T13:06:16.582864Z",
     "iopub.status.idle": "2023-07-04T13:06:16.615386Z",
     "shell.execute_reply": "2023-07-04T13:06:16.614374Z",
     "shell.execute_reply.started": "2023-07-04T13:06:16.582864Z"
    }
   },
   "outputs": [
    {
     "data": {
      "text/plain": [
       "<div class=\"PromoB\" data-content-type=\"article\" data-image-align=\"right\" data-image-size=\"\">\n",
       "<div class=\"PromoB-content\">\n",
       "<div class=\"PromoB-media\">\n",
       "<a aria-label=\"Cheniere Energy Lands 20-Year LNG Deal With China’s ENN\" class=\"Link\" data-cms-ai=\"0\" href=\"https://jpt.spe.org/cheniere-lands-20-year-lng-deal-with-chinas-enn\">\n",
       "<img alt=\"hero-chenieretrain.jpg\" class=\"Image\" data-image-size=\"promoSearch\" data-lazy-load=\"true\" data-src=\"https://assets.spe.org/dims4/default/beca927/2147483647/strip/true/crop/975x545+0+53/resize/365x204!/quality/90/?url=http%3A%2F%2Fspe-brightspot.s3.amazonaws.com%2Fa1%2F4c%2F294fa955382629af471d5ff654a1%2Fhero-chenieretrain.jpg\" height=\"204\" src=\"data:image/gif;base64,R0lGODlhAQABAAAAACH5BAEKAAEALAAAAAABAAEAAAICTAEAOw==\" width=\"365\"/>\n",
       "</a>\n",
       "</div>\n",
       "<div class=\"PromoB-category\">\n",
       "<a class=\"Link\" data-cms-ai=\"0\" href=\"https://jpt.spe.org/topic/lng\">LNG</a>\n",
       "</div>\n",
       "<div class=\"PromoB-title\">\n",
       "<a class=\"Link\" data-cms-ai=\"0\" href=\"https://jpt.spe.org/cheniere-lands-20-year-lng-deal-with-chinas-enn\">Cheniere Energy Lands 20-Year LNG Deal With China’s ENN</a>\n",
       "</div>\n",
       "<div class=\"PromoB-description\">The deal is expected to support the liquefied natural gas exporter’s Sabine Pass liquefaction expansion project.</div>\n",
       "<div class=\"PromoB-footer\">\n",
       "<div class=\"PromoB-by-line\">June 27, 2023 • Jennifer Presley\n",
       "                     • <a class=\"PromoB-publication\" data-cms-ai=\"0\" href=\"http://www.spe.org/publications/subscribe.php\">Journal of Petroleum Technology</a>\n",
       "</div>\n",
       "</div>\n",
       "</div>\n",
       "</div>"
      ]
     },
     "execution_count": 10,
     "metadata": {},
     "output_type": "execute_result"
    }
   ],
   "source": [
    "news_element"
   ]
  },
  {
   "cell_type": "code",
   "execution_count": 11,
   "id": "f3106d7d-565d-4374-8c56-c3461dd67dec",
   "metadata": {
    "execution": {
     "iopub.execute_input": "2023-07-04T13:06:19.079445Z",
     "iopub.status.busy": "2023-07-04T13:06:19.079445Z",
     "iopub.status.idle": "2023-07-04T13:06:19.095070Z",
     "shell.execute_reply": "2023-07-04T13:06:19.095070Z",
     "shell.execute_reply.started": "2023-07-04T13:06:19.079445Z"
    }
   },
   "outputs": [
    {
     "data": {
      "text/plain": [
       "[<div class=\"PromoB-title\">\n",
       " <a class=\"Link\" data-cms-ai=\"0\" href=\"https://jpt.spe.org/cheniere-lands-20-year-lng-deal-with-chinas-enn\">Cheniere Energy Lands 20-Year LNG Deal With China’s ENN</a>\n",
       " </div>]"
      ]
     },
     "execution_count": 11,
     "metadata": {},
     "output_type": "execute_result"
    }
   ],
   "source": [
    "news_element.select('div.PromoB-title')"
   ]
  },
  {
   "cell_type": "code",
   "execution_count": 12,
   "id": "6bbabd87-e2c1-4cf8-88db-ece443a90db9",
   "metadata": {
    "execution": {
     "iopub.execute_input": "2023-07-04T13:06:20.355793Z",
     "iopub.status.busy": "2023-07-04T13:06:20.355793Z",
     "iopub.status.idle": "2023-07-04T13:06:20.372388Z",
     "shell.execute_reply": "2023-07-04T13:06:20.371300Z",
     "shell.execute_reply.started": "2023-07-04T13:06:20.355793Z"
    }
   },
   "outputs": [
    {
     "data": {
      "text/plain": [
       "<div class=\"PromoB-title\">\n",
       "<a class=\"Link\" data-cms-ai=\"0\" href=\"https://jpt.spe.org/cheniere-lands-20-year-lng-deal-with-chinas-enn\">Cheniere Energy Lands 20-Year LNG Deal With China’s ENN</a>\n",
       "</div>"
      ]
     },
     "execution_count": 12,
     "metadata": {},
     "output_type": "execute_result"
    }
   ],
   "source": [
    "uuu = news_element.find('div', class_='PromoB-title', )\n",
    "uuu"
   ]
  },
  {
   "cell_type": "code",
   "execution_count": 15,
   "id": "a9df4344-e404-416c-8c78-5c7182de2a87",
   "metadata": {
    "execution": {
     "iopub.execute_input": "2023-07-04T13:06:23.041808Z",
     "iopub.status.busy": "2023-07-04T13:06:23.041808Z",
     "iopub.status.idle": "2023-07-04T13:06:23.057564Z",
     "shell.execute_reply": "2023-07-04T13:06:23.057564Z",
     "shell.execute_reply.started": "2023-07-04T13:06:23.041808Z"
    }
   },
   "outputs": [
    {
     "data": {
      "text/plain": [
       "'https://jpt.spe.org/cheniere-lands-20-year-lng-deal-with-chinas-enn'"
      ]
     },
     "execution_count": 15,
     "metadata": {},
     "output_type": "execute_result"
    }
   ],
   "source": [
    "uuu.find('a').get(\"href\")"
   ]
  },
  {
   "cell_type": "code",
   "execution_count": 16,
   "id": "746a1ae1-f111-48d0-afe1-426eb0a9e86e",
   "metadata": {
    "execution": {
     "iopub.execute_input": "2023-07-04T13:06:24.392144Z",
     "iopub.status.busy": "2023-07-04T13:06:24.392144Z",
     "iopub.status.idle": "2023-07-04T13:06:24.409149Z",
     "shell.execute_reply": "2023-07-04T13:06:24.407966Z",
     "shell.execute_reply.started": "2023-07-04T13:06:24.392144Z"
    }
   },
   "outputs": [],
   "source": [
    "uuu.get(\"href\")"
   ]
  },
  {
   "cell_type": "code",
   "execution_count": 17,
   "id": "c4ee5b4f-a186-4603-b6af-3f9a4e9ba4ba",
   "metadata": {
    "execution": {
     "iopub.execute_input": "2023-07-04T13:06:26.072229Z",
     "iopub.status.busy": "2023-07-04T13:06:26.072229Z",
     "iopub.status.idle": "2023-07-04T13:06:26.088322Z",
     "shell.execute_reply": "2023-07-04T13:06:26.087668Z",
     "shell.execute_reply.started": "2023-07-04T13:06:26.072229Z"
    }
   },
   "outputs": [],
   "source": [
    "for link in soup.find_all(\"a\"):\n",
    "    href = link.get(\"href\")"
   ]
  },
  {
   "cell_type": "code",
   "execution_count": 18,
   "id": "fde5b963-5319-4c76-bb3f-b837a5266a96",
   "metadata": {
    "execution": {
     "iopub.execute_input": "2023-07-04T13:06:27.532739Z",
     "iopub.status.busy": "2023-07-04T13:06:27.532739Z",
     "iopub.status.idle": "2023-07-04T13:06:27.550033Z",
     "shell.execute_reply": "2023-07-04T13:06:27.548856Z",
     "shell.execute_reply.started": "2023-07-04T13:06:27.532739Z"
    }
   },
   "outputs": [
    {
     "data": {
      "text/plain": [
       "'https://www.linkedin.com/showcase/jpt-journal-of-petroleum-technology/'"
      ]
     },
     "execution_count": 18,
     "metadata": {},
     "output_type": "execute_result"
    }
   ],
   "source": [
    "href"
   ]
  },
  {
   "cell_type": "code",
   "execution_count": 20,
   "id": "c2a22e5b-c9c7-4df3-9e9d-87af1f47eaea",
   "metadata": {
    "execution": {
     "iopub.execute_input": "2023-07-04T14:34:46.021082Z",
     "iopub.status.busy": "2023-07-04T14:34:46.015076Z",
     "iopub.status.idle": "2023-07-04T14:34:46.436660Z",
     "shell.execute_reply": "2023-07-04T14:34:46.435660Z",
     "shell.execute_reply.started": "2023-07-04T14:34:46.021082Z"
    }
   },
   "outputs": [
    {
     "data": {
      "text/plain": [
       "<telebot.types.Message at 0x296554c6d70>"
      ]
     },
     "execution_count": 20,
     "metadata": {},
     "output_type": "execute_result"
    }
   ],
   "source": [
    "bot.send_message(2528316, 'Салямчики!')"
   ]
  }
 ],
 "metadata": {
  "kernelspec": {
   "display_name": "Python 3 (ipykernel)",
   "language": "python",
   "name": "python3"
  },
  "language_info": {
   "codemirror_mode": {
    "name": "ipython",
    "version": 3
   },
   "file_extension": ".py",
   "mimetype": "text/x-python",
   "name": "python",
   "nbconvert_exporter": "python",
   "pygments_lexer": "ipython3",
   "version": "3.10.11"
  }
 },
 "nbformat": 4,
 "nbformat_minor": 5
}
