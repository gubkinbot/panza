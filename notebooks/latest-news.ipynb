{
 "cells": [
  {
   "cell_type": "code",
   "execution_count": 1,
   "id": "73b7a06a-e2ba-441f-9e02-fed8ee934eb5",
   "metadata": {
    "execution": {
     "iopub.execute_input": "2023-06-19T09:02:26.544657Z",
     "iopub.status.busy": "2023-06-19T09:02:26.544657Z",
     "iopub.status.idle": "2023-06-19T09:02:26.842779Z",
     "shell.execute_reply": "2023-06-19T09:02:26.842779Z",
     "shell.execute_reply.started": "2023-06-19T09:02:26.544657Z"
    }
   },
   "outputs": [],
   "source": [
    "import requests\n",
    "from bs4 import BeautifulSoup"
   ]
  },
  {
   "cell_type": "code",
   "execution_count": 2,
   "id": "dd3a2f0e-69da-4f01-9bc9-a5f97a021d38",
   "metadata": {
    "execution": {
     "iopub.execute_input": "2023-06-19T09:02:27.282492Z",
     "iopub.status.busy": "2023-06-19T09:02:27.282492Z",
     "iopub.status.idle": "2023-06-19T09:02:27.298115Z",
     "shell.execute_reply": "2023-06-19T09:02:27.298115Z",
     "shell.execute_reply.started": "2023-06-19T09:02:27.282492Z"
    }
   },
   "outputs": [],
   "source": [
    "headers = {'User-Agent': 'Mozilla/5.0 (Windows NT 10.0; Win64; x64) AppleWebKit/537.36 (KHTML, like Gecko) Chrome/91.0.4472.124 Safari/537.36'}"
   ]
  },
  {
   "cell_type": "code",
   "execution_count": 3,
   "id": "a24a6853-debf-450c-b889-c88869268a40",
   "metadata": {
    "execution": {
     "iopub.execute_input": "2023-06-19T09:02:27.690901Z",
     "iopub.status.busy": "2023-06-19T09:02:27.690901Z",
     "iopub.status.idle": "2023-06-19T09:02:27.706493Z",
     "shell.execute_reply": "2023-06-19T09:02:27.706493Z",
     "shell.execute_reply.started": "2023-06-19T09:02:27.690901Z"
    }
   },
   "outputs": [],
   "source": [
    "url = 'https://jpt.spe.org/latest-news'"
   ]
  },
  {
   "cell_type": "code",
   "execution_count": 4,
   "id": "644ca7e7-e631-4d65-9e65-2a0b3570520a",
   "metadata": {
    "execution": {
     "iopub.execute_input": "2023-06-19T09:02:28.068005Z",
     "iopub.status.busy": "2023-06-19T09:02:28.068005Z",
     "iopub.status.idle": "2023-06-19T09:02:30.174591Z",
     "shell.execute_reply": "2023-06-19T09:02:30.174591Z",
     "shell.execute_reply.started": "2023-06-19T09:02:28.068005Z"
    }
   },
   "outputs": [],
   "source": [
    "response = requests.get(url, headers=headers)"
   ]
  },
  {
   "cell_type": "code",
   "execution_count": 5,
   "id": "d553e6db-1cda-4e15-93a1-95ccf466c3e4",
   "metadata": {
    "execution": {
     "iopub.execute_input": "2023-06-19T09:02:30.174591Z",
     "iopub.status.busy": "2023-06-19T09:02:30.174591Z",
     "iopub.status.idle": "2023-06-19T09:02:30.331475Z",
     "shell.execute_reply": "2023-06-19T09:02:30.331475Z",
     "shell.execute_reply.started": "2023-06-19T09:02:30.174591Z"
    }
   },
   "outputs": [],
   "source": [
    "soup = BeautifulSoup(response.text, 'html.parser')"
   ]
  },
  {
   "cell_type": "code",
   "execution_count": 6,
   "id": "6d130d57-b723-4222-b504-a639a7aa8552",
   "metadata": {
    "execution": {
     "iopub.execute_input": "2023-06-19T09:02:30.331475Z",
     "iopub.status.busy": "2023-06-19T09:02:30.331475Z",
     "iopub.status.idle": "2023-06-19T09:02:30.347520Z",
     "shell.execute_reply": "2023-06-19T09:02:30.347520Z",
     "shell.execute_reply.started": "2023-06-19T09:02:30.331475Z"
    },
    "scrolled": true
   },
   "outputs": [],
   "source": [
    "news_elements = soup.find_all('div', class_='PromoB')  # Replace with the appropriate HTML tag and class"
   ]
  },
  {
   "cell_type": "code",
   "execution_count": 23,
   "id": "159b8fff-4c69-4198-bb18-6ae5ff7d7de2",
   "metadata": {
    "execution": {
     "iopub.execute_input": "2023-06-19T09:13:17.513423Z",
     "iopub.status.busy": "2023-06-19T09:13:17.513423Z",
     "iopub.status.idle": "2023-06-19T09:13:17.529545Z",
     "shell.execute_reply": "2023-06-19T09:13:17.529545Z",
     "shell.execute_reply.started": "2023-06-19T09:13:17.513423Z"
    }
   },
   "outputs": [
    {
     "name": "stdout",
     "output_type": "stream",
     "text": [
      "Title: SPE Journal Issues Call for Papers for the Lower-Carbon Prospects of Petroleum Engineering Special Issue\n",
      "Summary: SPE Journal is now accepting papers for a new special issue focused on Lower-Carbon Prospects of Petroleum Engineering. Submissions are invited about novel research on petroleum engineering aspects of lower-carbon energy production, emphasizing subsurface technologies related to CCUS, geothermal energy, subsurface hydrogen, offshore energy facilities, and other lower-…\n",
      "Line: June 15, 2023\n",
      "---\n",
      "Title: Patterson-UTI and NextTier Merge To Create a New Oilfield Services Giant\n",
      "Summary: The US-based drilling contractor and well completions company will combine to form the second-biggest service company in North America.\n",
      "Line: June 15, 2023\n",
      "---\n",
      "Title: Earthstone Scoops Permian Rival Novo for $1.5 Billion\n",
      "Summary: A concurrent deal to sell off some of the acquired assets to Northern Oil and Gas will effectively lower the acquisition cost to $1 billion.\n",
      "Line: June 15, 2023\n",
      "---\n",
      "Title: Permian Gas Flowing at Record Highs\n",
      "Summary: A slate of new pipeline projects are expected to help relieve the oil-rich region's associated gas bottleneck.\n",
      "Line: June 14, 2023\n",
      "---\n",
      "Title: Atlas Energy’s Dune Express Proppant Conveyor Rolling Into the Permian Basin\n",
      "Summary: The first long-haul overland conveyor system to deliver proppant is under construction in the Permian Basin.\n",
      "Line: June 14, 2023\n",
      "---\n",
      "Title: When It Comes To Plugging Leaks, Some Scaling Could Be Good\n",
      "Summary: In an industry where methane leaks and carbon dioxide storage are increasingly important concerns, finding new ways to seal leaks is a valuable skill.\n",
      "Line: June 9, 2023\n",
      "---\n",
      "Title: How Digital Innovation Is Transforming the Pore Pressure and Fracture Gradient Work Flow\n",
      "Summary: Despite energy companies' enthusiasm for implementing digital technologies in drilling analysis, many predictions still include a high level of uncertainty.\n",
      "Line: June 8, 2023\n",
      "---\n",
      "Title: Flaring-Mitigation Technology Fuels Particle Collider Research at MIT\n",
      "Summary: The startup known for helping introduce Bitcoin mining to the upstream industry is now also offering cloud computing using associated gas.\n",
      "Line: June 7, 2023\n",
      "---\n",
      "Title: Tracking the Energy Transition: Walmart Drives Toward Zero Emissions and Sigma Shifts to Green Lithium\n",
      "Summary: In the world of wind, Equinor has postponed its initiative indefinitely while Repsol moves ahead in Italy, and Portugal plans to auction offshore leases for wind farms.\n",
      "Line: June 6, 2023\n",
      "---\n",
      "Title: Engineer Raises Climate Science Above the Din\n",
      "Summary: A retired petroleum engineer read the 2021 report on climate change from the UN Intergovernmental Panel on Climate Change and offers his insights on the complexities and nuances of climate science.\n",
      "Line: June 6, 2023\n",
      "---\n",
      "Title: Decommissioning Contracts Awarded for Projects Offshore Australia and the US Gulf Coast\n",
      "Summary: Woodside Energy awards all contracts for major work at multiple fields, while Helix Energy secures significant plugging and abandonment job on the Gulf of Mexico shelf.\n",
      "Line: June 1, 2023\n",
      "---\n",
      "Title: Missing in the Montney: Unreported Wet Gas Skews Picture of Canada’s Premier Shale Play\n",
      "Summary: Enverus claims hundreds of millions of barrels of gas condensates are nowhere to be found in public data due to a major reporting gap.\n",
      "Line: June 1, 2023\n",
      "---\n"
     ]
    }
   ],
   "source": [
    "news_array = []\n",
    "for news_element in news_elements:\n",
    "    title = news_element.find('div', class_='PromoB-title').get_text(strip=True)\n",
    "    summary = news_element.find('div', class_='PromoB-description').get_text(strip=True)\n",
    "    line = news_element.find('div', class_='PromoB-by-line').get_text(strip=True).split('•')[0].lstrip().rstrip()\n",
    "\n",
    "    news = {'title': title, 'summary': summary, 'line': line}\n",
    "\n",
    "    news_array.append(news)\n",
    "    \n",
    "for news in news_array:\n",
    "    print('Title:', news['title'])\n",
    "    print('Summary:', news['summary'])\n",
    "    print('Line:', news['line'])\n",
    "    print('---')"
   ]
  },
  {
   "cell_type": "code",
   "execution_count": 24,
   "id": "16bfc7e8-d513-42db-9ed2-35356f7f1494",
   "metadata": {
    "execution": {
     "iopub.execute_input": "2023-06-19T09:16:53.613521Z",
     "iopub.status.busy": "2023-06-19T09:16:53.609524Z",
     "iopub.status.idle": "2023-06-19T09:16:53.633527Z",
     "shell.execute_reply": "2023-06-19T09:16:53.633527Z",
     "shell.execute_reply.started": "2023-06-19T09:16:53.613521Z"
    }
   },
   "outputs": [
    {
     "data": {
      "text/plain": [
       "<div class=\"PromoB\" data-content-type=\"article\" data-image-align=\"right\" data-image-size=\"\">\n",
       "<div class=\"PromoB-content\">\n",
       "<div class=\"PromoB-media\">\n",
       "<a aria-label=\"Missing in the Montney: Unreported Wet Gas Skews Picture of Canada’s Premier Shale Play  \" class=\"Link\" data-cms-ai=\"0\" href=\"https://jpt.spe.org/missing-in-the-montney-unreported-wet-gas-skews-picture-of-canadas-premier-shale-play\">\n",
       "<img alt=\"British Columbia Natural Gas Liquids Plant North Montney shale formation Alaska Highway\" class=\"Image\" data-image-size=\"promoSearch\" data-lazy-load=\"true\" data-src=\"https://assets.spe.org/dims4/default/3e300b0/2147483647/strip/true/crop/4215x2356+0+227/resize/365x204!/quality/90/?url=http%3A%2F%2Fspe-brightspot.s3.amazonaws.com%2Ffc%2Fca%2F9fbfe85f4ce68ffd025514af3748%2Fjpt-23-montney-shale-gas-wells.jpg\" height=\"204\" src=\"data:image/gif;base64,R0lGODlhAQABAAAAACH5BAEKAAEALAAAAAABAAEAAAICTAEAOw==\" width=\"365\"/>\n",
       "</a>\n",
       "</div>\n",
       "<div class=\"PromoB-category\">\n",
       "<a class=\"Link\" data-cms-ai=\"0\" href=\"https://jpt.spe.org/topic/unconventional-complex-reservoirs\">Unconventional/complex reservoirs</a>\n",
       "</div>\n",
       "<div class=\"PromoB-title\">\n",
       "<a class=\"Link\" data-cms-ai=\"0\" href=\"https://jpt.spe.org/missing-in-the-montney-unreported-wet-gas-skews-picture-of-canadas-premier-shale-play\">Missing in the Montney: Unreported Wet Gas Skews Picture of Canada’s Premier Shale Play  </a>\n",
       "</div>\n",
       "<div class=\"PromoB-description\">Enverus claims hundreds of millions of barrels of gas condensates are nowhere to be found in public data due to a major reporting gap.</div>\n",
       "<div class=\"PromoB-footer\">\n",
       "<div class=\"PromoB-by-line\">June 1, 2023 • Trent Jacobs\n",
       "                     • <a class=\"PromoB-publication\" data-cms-ai=\"0\" href=\"http://www.spe.org/publications/subscribe.php\">Journal of Petroleum Technology</a>\n",
       "</div>\n",
       "</div>\n",
       "</div>\n",
       "</div>"
      ]
     },
     "execution_count": 24,
     "metadata": {},
     "output_type": "execute_result"
    }
   ],
   "source": [
    "news_element"
   ]
  },
  {
   "cell_type": "code",
   "execution_count": 33,
   "id": "f3106d7d-565d-4374-8c56-c3461dd67dec",
   "metadata": {
    "execution": {
     "iopub.execute_input": "2023-06-19T09:36:14.579593Z",
     "iopub.status.busy": "2023-06-19T09:36:14.579593Z",
     "iopub.status.idle": "2023-06-19T09:36:14.612130Z",
     "shell.execute_reply": "2023-06-19T09:36:14.610736Z",
     "shell.execute_reply.started": "2023-06-19T09:36:14.579593Z"
    }
   },
   "outputs": [
    {
     "data": {
      "text/plain": [
       "[<div class=\"PromoB-title\">\n",
       " <a class=\"Link\" data-cms-ai=\"0\" href=\"https://jpt.spe.org/missing-in-the-montney-unreported-wet-gas-skews-picture-of-canadas-premier-shale-play\">Missing in the Montney: Unreported Wet Gas Skews Picture of Canada’s Premier Shale Play  </a>\n",
       " </div>]"
      ]
     },
     "execution_count": 33,
     "metadata": {},
     "output_type": "execute_result"
    }
   ],
   "source": [
    "news_element.select('div.PromoB-title ')"
   ]
  },
  {
   "cell_type": "code",
   "execution_count": null,
   "id": "c4ee5b4f-a186-4603-b6af-3f9a4e9ba4ba",
   "metadata": {},
   "outputs": [],
   "source": []
  }
 ],
 "metadata": {
  "kernelspec": {
   "display_name": "Python 3 (ipykernel)",
   "language": "python",
   "name": "python3"
  },
  "language_info": {
   "codemirror_mode": {
    "name": "ipython",
    "version": 3
   },
   "file_extension": ".py",
   "mimetype": "text/x-python",
   "name": "python",
   "nbconvert_exporter": "python",
   "pygments_lexer": "ipython3",
   "version": "3.10.11"
  }
 },
 "nbformat": 4,
 "nbformat_minor": 5
}
