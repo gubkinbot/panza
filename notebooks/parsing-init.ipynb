{
 "cells": [
  {
   "cell_type": "code",
   "execution_count": 1,
   "id": "36332d81-8761-49ca-afa7-6f1ec7ff11af",
   "metadata": {
    "execution": {
     "iopub.execute_input": "2023-06-18T13:23:04.944275Z",
     "iopub.status.busy": "2023-06-18T13:23:04.944275Z",
     "iopub.status.idle": "2023-06-18T13:23:05.456552Z",
     "shell.execute_reply": "2023-06-18T13:23:05.456552Z",
     "shell.execute_reply.started": "2023-06-18T13:23:04.944275Z"
    }
   },
   "outputs": [],
   "source": [
    "import requests\n",
    "from bs4 import BeautifulSoup\n",
    "import os\n",
    "import openai"
   ]
  },
  {
   "cell_type": "code",
   "execution_count": 2,
   "id": "e7468cbe-97ad-4615-8c42-03adeba2a890",
   "metadata": {
    "execution": {
     "iopub.execute_input": "2023-06-18T13:23:05.460552Z",
     "iopub.status.busy": "2023-06-18T13:23:05.460552Z",
     "iopub.status.idle": "2023-06-18T13:23:05.476552Z",
     "shell.execute_reply": "2023-06-18T13:23:05.472555Z",
     "shell.execute_reply.started": "2023-06-18T13:23:05.460552Z"
    }
   },
   "outputs": [],
   "source": [
    "openai.api_key = os.getenv(\"OPENAI_API_KEY\")"
   ]
  },
  {
   "cell_type": "code",
   "execution_count": 3,
   "id": "c9f1a6ca-45af-4258-b872-aa6860cf82da",
   "metadata": {
    "execution": {
     "iopub.execute_input": "2023-06-18T13:23:06.026202Z",
     "iopub.status.busy": "2023-06-18T13:23:06.026202Z",
     "iopub.status.idle": "2023-06-18T13:23:06.042202Z",
     "shell.execute_reply": "2023-06-18T13:23:06.042202Z",
     "shell.execute_reply.started": "2023-06-18T13:23:06.026202Z"
    }
   },
   "outputs": [],
   "source": [
    "url = 'https://jpt.spe.org/when-it-comes-to-plugging-leaks-some-scaling-could-be-good'"
   ]
  },
  {
   "cell_type": "code",
   "execution_count": 4,
   "id": "cca3484f-38da-441d-b8b4-1ef15859dc1c",
   "metadata": {
    "execution": {
     "iopub.execute_input": "2023-06-18T13:23:06.676903Z",
     "iopub.status.busy": "2023-06-18T13:23:06.676903Z",
     "iopub.status.idle": "2023-06-18T13:23:06.688917Z",
     "shell.execute_reply": "2023-06-18T13:23:06.688917Z",
     "shell.execute_reply.started": "2023-06-18T13:23:06.676903Z"
    }
   },
   "outputs": [],
   "source": [
    "headers = {'User-Agent': 'Mozilla/5.0 (Windows NT 10.0; Win64; x64) AppleWebKit/537.36 (KHTML, like Gecko) Chrome/91.0.4472.124 Safari/537.36'}"
   ]
  },
  {
   "cell_type": "code",
   "execution_count": 5,
   "id": "744a1a16-afaf-4443-a760-3e1d0e3dc51a",
   "metadata": {
    "execution": {
     "iopub.execute_input": "2023-06-18T13:23:07.156637Z",
     "iopub.status.busy": "2023-06-18T13:23:07.156637Z",
     "iopub.status.idle": "2023-06-18T13:23:07.909655Z",
     "shell.execute_reply": "2023-06-18T13:23:07.909655Z",
     "shell.execute_reply.started": "2023-06-18T13:23:07.156637Z"
    }
   },
   "outputs": [],
   "source": [
    "response = requests.get(url, headers=headers)"
   ]
  },
  {
   "cell_type": "code",
   "execution_count": 6,
   "id": "038fe6ba-09fd-4ba6-ba2e-0b051d9bffc0",
   "metadata": {
    "execution": {
     "iopub.execute_input": "2023-06-18T13:23:07.912204Z",
     "iopub.status.busy": "2023-06-18T13:23:07.912204Z",
     "iopub.status.idle": "2023-06-18T13:23:08.012312Z",
     "shell.execute_reply": "2023-06-18T13:23:08.012312Z",
     "shell.execute_reply.started": "2023-06-18T13:23:07.912204Z"
    }
   },
   "outputs": [],
   "source": [
    "soup = BeautifulSoup(response.content, 'html.parser')"
   ]
  },
  {
   "cell_type": "code",
   "execution_count": 7,
   "id": "ef8629d1-4288-4210-9896-c1868432b73f",
   "metadata": {
    "execution": {
     "iopub.execute_input": "2023-06-18T13:23:08.084326Z",
     "iopub.status.busy": "2023-06-18T13:23:08.084326Z",
     "iopub.status.idle": "2023-06-18T13:23:08.092326Z",
     "shell.execute_reply": "2023-06-18T13:23:08.092326Z",
     "shell.execute_reply.started": "2023-06-18T13:23:08.084326Z"
    }
   },
   "outputs": [],
   "source": [
    "news_articles = soup.find_all('RichTextBody')"
   ]
  },
  {
   "cell_type": "code",
   "execution_count": 8,
   "id": "ebc76968-11c7-4a6c-99bf-295bb4cba016",
   "metadata": {
    "execution": {
     "iopub.execute_input": "2023-06-18T13:23:08.798372Z",
     "iopub.status.busy": "2023-06-18T13:23:08.798372Z",
     "iopub.status.idle": "2023-06-18T13:23:08.818153Z",
     "shell.execute_reply": "2023-06-18T13:23:08.818153Z",
     "shell.execute_reply.started": "2023-06-18T13:23:08.798372Z"
    }
   },
   "outputs": [],
   "source": [
    "div_block = soup.find('div', class_='RichTextArticleBody-body RichTextBody').get_text(strip=True)"
   ]
  },
  {
   "cell_type": "code",
   "execution_count": 9,
   "id": "6e164097-cbd5-4fcc-a23c-07d9941ccb2b",
   "metadata": {
    "execution": {
     "iopub.execute_input": "2023-06-18T13:23:09.383051Z",
     "iopub.status.busy": "2023-06-18T13:23:09.379054Z",
     "iopub.status.idle": "2023-06-18T13:23:12.885869Z",
     "shell.execute_reply": "2023-06-18T13:23:12.883676Z",
     "shell.execute_reply.started": "2023-06-18T13:23:09.383051Z"
    }
   },
   "outputs": [
    {
     "name": "stdout",
     "output_type": "stream",
     "text": [
      "CPU times: total: 15.6 ms\n",
      "Wall time: 3.48 s\n"
     ]
    },
    {
     "data": {
      "text/plain": [
       "'Инженеры, которые ранее занимались бурением и разрывом породы, теперь ищут способы ее регенерации для предотвращения утечек. Новые методы включают использование бактерий и химических веществ для заделки микроскопических трещин, а также создание барьеров из барита для заделки крупных отверстий.'"
      ]
     },
     "execution_count": 9,
     "metadata": {},
     "output_type": "execute_result"
    }
   ],
   "source": [
    "%%time\n",
    "response = openai.ChatCompletion.create(model='gpt-3.5-turbo-16k-0613',\n",
    "                                        messages=[\n",
    "                                            {'role': 'system', 'content': 'you must highlight the main idea of the text in simple words, translate into Russian. the result should be no more than two sentences.'},\n",
    "                                            {'role': \"user\", \"content\": div_block},\n",
    "                                        ])\n",
    "response['choices'][0]['message']['content']"
   ]
  }
 ],
 "metadata": {
  "kernelspec": {
   "display_name": "Python 3 (ipykernel)",
   "language": "python",
   "name": "python3"
  },
  "language_info": {
   "codemirror_mode": {
    "name": "ipython",
    "version": 3
   },
   "file_extension": ".py",
   "mimetype": "text/x-python",
   "name": "python",
   "nbconvert_exporter": "python",
   "pygments_lexer": "ipython3",
   "version": "3.10.11"
  }
 },
 "nbformat": 4,
 "nbformat_minor": 5
}
