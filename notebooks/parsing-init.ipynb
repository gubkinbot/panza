{
 "cells": [
  {
   "cell_type": "code",
   "execution_count": 1,
   "id": "36332d81-8761-49ca-afa7-6f1ec7ff11af",
   "metadata": {
    "execution": {
     "iopub.execute_input": "2023-06-18T13:27:52.766292Z",
     "iopub.status.busy": "2023-06-18T13:27:52.766292Z",
     "iopub.status.idle": "2023-06-18T13:27:53.347234Z",
     "shell.execute_reply": "2023-06-18T13:27:53.347234Z",
     "shell.execute_reply.started": "2023-06-18T13:27:52.766292Z"
    }
   },
   "outputs": [],
   "source": [
    "import requests\n",
    "from bs4 import BeautifulSoup\n",
    "import os\n",
    "import openai"
   ]
  },
  {
   "cell_type": "code",
   "execution_count": 2,
   "id": "e7468cbe-97ad-4615-8c42-03adeba2a890",
   "metadata": {
    "execution": {
     "iopub.execute_input": "2023-06-18T13:27:53.347234Z",
     "iopub.status.busy": "2023-06-18T13:27:53.347234Z",
     "iopub.status.idle": "2023-06-18T13:27:53.364536Z",
     "shell.execute_reply": "2023-06-18T13:27:53.363430Z",
     "shell.execute_reply.started": "2023-06-18T13:27:53.347234Z"
    }
   },
   "outputs": [],
   "source": [
    "openai.api_key = os.getenv(\"OPENAI_API_KEY\")"
   ]
  },
  {
   "cell_type": "code",
   "execution_count": 3,
   "id": "c9f1a6ca-45af-4258-b872-aa6860cf82da",
   "metadata": {
    "execution": {
     "iopub.execute_input": "2023-06-18T13:27:53.366836Z",
     "iopub.status.busy": "2023-06-18T13:27:53.366836Z",
     "iopub.status.idle": "2023-06-18T13:27:53.394945Z",
     "shell.execute_reply": "2023-06-18T13:27:53.394945Z",
     "shell.execute_reply.started": "2023-06-18T13:27:53.366836Z"
    }
   },
   "outputs": [],
   "source": [
    "url = 'https://jpt.spe.org/when-it-comes-to-plugging-leaks-some-scaling-could-be-good'"
   ]
  },
  {
   "cell_type": "code",
   "execution_count": 4,
   "id": "cca3484f-38da-441d-b8b4-1ef15859dc1c",
   "metadata": {
    "execution": {
     "iopub.execute_input": "2023-06-18T13:27:53.394945Z",
     "iopub.status.busy": "2023-06-18T13:27:53.394945Z",
     "iopub.status.idle": "2023-06-18T13:27:53.410981Z",
     "shell.execute_reply": "2023-06-18T13:27:53.410981Z",
     "shell.execute_reply.started": "2023-06-18T13:27:53.394945Z"
    }
   },
   "outputs": [],
   "source": [
    "headers = {'User-Agent': 'Mozilla/5.0 (Windows NT 10.0; Win64; x64) AppleWebKit/537.36 (KHTML, like Gecko) Chrome/91.0.4472.124 Safari/537.36'}"
   ]
  },
  {
   "cell_type": "code",
   "execution_count": 5,
   "id": "744a1a16-afaf-4443-a760-3e1d0e3dc51a",
   "metadata": {
    "execution": {
     "iopub.execute_input": "2023-06-18T13:27:53.410981Z",
     "iopub.status.busy": "2023-06-18T13:27:53.410981Z",
     "iopub.status.idle": "2023-06-18T13:27:55.500967Z",
     "shell.execute_reply": "2023-06-18T13:27:55.500967Z",
     "shell.execute_reply.started": "2023-06-18T13:27:53.410981Z"
    }
   },
   "outputs": [],
   "source": [
    "response = requests.get(url, headers=headers)"
   ]
  },
  {
   "cell_type": "code",
   "execution_count": 6,
   "id": "038fe6ba-09fd-4ba6-ba2e-0b051d9bffc0",
   "metadata": {
    "execution": {
     "iopub.execute_input": "2023-06-18T13:27:55.500967Z",
     "iopub.status.busy": "2023-06-18T13:27:55.500967Z",
     "iopub.status.idle": "2023-06-18T13:27:55.595151Z",
     "shell.execute_reply": "2023-06-18T13:27:55.595151Z",
     "shell.execute_reply.started": "2023-06-18T13:27:55.500967Z"
    }
   },
   "outputs": [],
   "source": [
    "soup = BeautifulSoup(response.content, 'html.parser')"
   ]
  },
  {
   "cell_type": "code",
   "execution_count": 7,
   "id": "ebc76968-11c7-4a6c-99bf-295bb4cba016",
   "metadata": {
    "execution": {
     "iopub.execute_input": "2023-06-18T13:27:55.595151Z",
     "iopub.status.busy": "2023-06-18T13:27:55.595151Z",
     "iopub.status.idle": "2023-06-18T13:27:55.611236Z",
     "shell.execute_reply": "2023-06-18T13:27:55.611236Z",
     "shell.execute_reply.started": "2023-06-18T13:27:55.595151Z"
    }
   },
   "outputs": [],
   "source": [
    "div_block = soup.find('div', class_='RichTextArticleBody-body RichTextBody').get_text(strip=True)"
   ]
  },
  {
   "cell_type": "code",
   "execution_count": 8,
   "id": "6e164097-cbd5-4fcc-a23c-07d9941ccb2b",
   "metadata": {
    "execution": {
     "iopub.execute_input": "2023-06-18T13:27:55.611236Z",
     "iopub.status.busy": "2023-06-18T13:27:55.611236Z",
     "iopub.status.idle": "2023-06-18T13:27:58.987378Z",
     "shell.execute_reply": "2023-06-18T13:27:58.987378Z",
     "shell.execute_reply.started": "2023-06-18T13:27:55.611236Z"
    }
   },
   "outputs": [
    {
     "name": "stdout",
     "output_type": "stream",
     "text": [
      "CPU times: total: 31.2 ms\n",
      "Wall time: 3.36 s\n"
     ]
    },
    {
     "data": {
      "text/plain": [
       "'Инженеры, занимающиеся бурением и разрушением горных пород, теперь ищут способы их роста для остановки утечек. Одна из идей - внедрение бактерий и химических веществ, которые создают герметическое уплотнение из карбоната кальция, на микрометровом уровне. Эти новые методы, в свою очередь, помогут решить такие сложные проблемы, как устранение утечек метана и долгосрочное хранение углерода.'"
      ]
     },
     "execution_count": 8,
     "metadata": {},
     "output_type": "execute_result"
    }
   ],
   "source": [
    "%%time\n",
    "response = openai.ChatCompletion.create(model='gpt-3.5-turbo-16k-0613',\n",
    "                                        messages=[\n",
    "                                            {'role': 'system', 'content': 'you must highlight the main idea of the text in simple words, translate into Russian. the result should be no more than two sentences.'},\n",
    "                                            {'role': \"user\", \"content\": div_block},\n",
    "                                        ])\n",
    "response['choices'][0]['message']['content']"
   ]
  },
  {
   "cell_type": "code",
   "execution_count": null,
   "id": "75c3d99e-9320-4f70-9f48-a469a6573593",
   "metadata": {},
   "outputs": [],
   "source": []
  }
 ],
 "metadata": {
  "kernelspec": {
   "display_name": "Python 3 (ipykernel)",
   "language": "python",
   "name": "python3"
  },
  "language_info": {
   "codemirror_mode": {
    "name": "ipython",
    "version": 3
   },
   "file_extension": ".py",
   "mimetype": "text/x-python",
   "name": "python",
   "nbconvert_exporter": "python",
   "pygments_lexer": "ipython3",
   "version": "3.10.11"
  }
 },
 "nbformat": 4,
 "nbformat_minor": 5
}
