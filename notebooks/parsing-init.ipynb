{
 "cells": [
  {
   "cell_type": "code",
   "execution_count": 1,
   "id": "36332d81-8761-49ca-afa7-6f1ec7ff11af",
   "metadata": {
    "execution": {
     "iopub.execute_input": "2023-06-19T17:09:34.165558Z",
     "iopub.status.busy": "2023-06-19T17:09:34.165558Z",
     "iopub.status.idle": "2023-06-19T17:09:34.840655Z",
     "shell.execute_reply": "2023-06-19T17:09:34.840655Z",
     "shell.execute_reply.started": "2023-06-19T17:09:34.165558Z"
    }
   },
   "outputs": [],
   "source": [
    "import requests\n",
    "from bs4 import BeautifulSoup\n",
    "import os\n",
    "import openai"
   ]
  },
  {
   "cell_type": "code",
   "execution_count": 2,
   "id": "e7468cbe-97ad-4615-8c42-03adeba2a890",
   "metadata": {
    "execution": {
     "iopub.execute_input": "2023-06-19T17:09:38.162885Z",
     "iopub.status.busy": "2023-06-19T17:09:38.162885Z",
     "iopub.status.idle": "2023-06-19T17:09:38.178560Z",
     "shell.execute_reply": "2023-06-19T17:09:38.178560Z",
     "shell.execute_reply.started": "2023-06-19T17:09:38.162885Z"
    }
   },
   "outputs": [],
   "source": [
    "openai.organization = os.getenv(\"OPENAI_ORG\")\n",
    "openai.api_key = os.getenv(\"OPENAI_API_KEY\")"
   ]
  },
  {
   "cell_type": "code",
   "execution_count": 3,
   "id": "c9f1a6ca-45af-4258-b872-aa6860cf82da",
   "metadata": {
    "execution": {
     "iopub.execute_input": "2023-06-19T17:09:39.294380Z",
     "iopub.status.busy": "2023-06-19T17:09:39.293393Z",
     "iopub.status.idle": "2023-06-19T17:09:39.310367Z",
     "shell.execute_reply": "2023-06-19T17:09:39.309364Z",
     "shell.execute_reply.started": "2023-06-19T17:09:39.294380Z"
    }
   },
   "outputs": [],
   "source": [
    "url = 'https://jpt.spe.org/when-it-comes-to-plugging-leaks-some-scaling-could-be-good'"
   ]
  },
  {
   "cell_type": "code",
   "execution_count": 4,
   "id": "cca3484f-38da-441d-b8b4-1ef15859dc1c",
   "metadata": {
    "execution": {
     "iopub.execute_input": "2023-06-19T17:09:39.854647Z",
     "iopub.status.busy": "2023-06-19T17:09:39.850128Z",
     "iopub.status.idle": "2023-06-19T17:09:39.858169Z",
     "shell.execute_reply": "2023-06-19T17:09:39.858169Z",
     "shell.execute_reply.started": "2023-06-19T17:09:39.854647Z"
    }
   },
   "outputs": [],
   "source": [
    "headers = {'User-Agent': 'Mozilla/5.0 (Windows NT 10.0; Win64; x64) AppleWebKit/537.36 (KHTML, like Gecko) Chrome/91.0.4472.124 Safari/537.36'}"
   ]
  },
  {
   "cell_type": "code",
   "execution_count": 5,
   "id": "744a1a16-afaf-4443-a760-3e1d0e3dc51a",
   "metadata": {
    "execution": {
     "iopub.execute_input": "2023-06-19T17:09:41.006408Z",
     "iopub.status.busy": "2023-06-19T17:09:41.002405Z",
     "iopub.status.idle": "2023-06-19T17:09:43.086660Z",
     "shell.execute_reply": "2023-06-19T17:09:43.086660Z",
     "shell.execute_reply.started": "2023-06-19T17:09:41.006408Z"
    }
   },
   "outputs": [],
   "source": [
    "response = requests.get(url, headers=headers)"
   ]
  },
  {
   "cell_type": "code",
   "execution_count": 6,
   "id": "038fe6ba-09fd-4ba6-ba2e-0b051d9bffc0",
   "metadata": {
    "execution": {
     "iopub.execute_input": "2023-06-19T17:09:43.090650Z",
     "iopub.status.busy": "2023-06-19T17:09:43.086660Z",
     "iopub.status.idle": "2023-06-19T17:09:43.190769Z",
     "shell.execute_reply": "2023-06-19T17:09:43.190769Z",
     "shell.execute_reply.started": "2023-06-19T17:09:43.090650Z"
    }
   },
   "outputs": [],
   "source": [
    "soup = BeautifulSoup(response.content, 'html.parser')"
   ]
  },
  {
   "cell_type": "code",
   "execution_count": 7,
   "id": "ebc76968-11c7-4a6c-99bf-295bb4cba016",
   "metadata": {
    "execution": {
     "iopub.execute_input": "2023-06-19T17:09:43.190769Z",
     "iopub.status.busy": "2023-06-19T17:09:43.190769Z",
     "iopub.status.idle": "2023-06-19T17:09:43.206742Z",
     "shell.execute_reply": "2023-06-19T17:09:43.206742Z",
     "shell.execute_reply.started": "2023-06-19T17:09:43.190769Z"
    }
   },
   "outputs": [],
   "source": [
    "div_block = soup.find('div', class_='RichTextArticleBody-body RichTextBody').get_text(strip=True)"
   ]
  },
  {
   "cell_type": "code",
   "execution_count": 14,
   "id": "6e164097-cbd5-4fcc-a23c-07d9941ccb2b",
   "metadata": {
    "execution": {
     "iopub.execute_input": "2023-06-19T17:16:36.091531Z",
     "iopub.status.busy": "2023-06-19T17:16:36.091531Z",
     "iopub.status.idle": "2023-06-19T17:17:30.726592Z",
     "shell.execute_reply": "2023-06-19T17:17:30.726592Z",
     "shell.execute_reply.started": "2023-06-19T17:16:36.091531Z"
    }
   },
   "outputs": [
    {
     "name": "stdout",
     "output_type": "stream",
     "text": [
      "CPU times: total: 0 ns\n",
      "Wall time: 54.6 s\n"
     ]
    },
    {
     "data": {
      "text/plain": [
       "'Главная мысль: Инженеры, которые ранее занимались бурением и расщеплением пород, теперь исследуют способы выращивания породы для устранения утечек. В двух недавних статьях представлены новые методы, вдохновленные сложными проблемами, такими как устранение утечек метана и долгосрочное хранение углерода.\\n\\nПеревод на русский язык: Инженеры, ранее работавшие над бурением и расщеплением горных пород, теперь изучают возможности их выращивания для устранения утечек. В двух недавних статьях рассматриваются проблемы, такие как улучшение герметичности в результате микротрещин и предотвращение утечек метана, а также перспективы долгосрочного хранения углерода. В одной статье рассматривается метод инъекции смеси бактерий и химических веществ для закрытия микротрещин и предотвращения утечек газа через зону цементации. Второй подход направлен на закачку двух потоков химических веществ для формирования непроницаемого баритового барьера.'"
      ]
     },
     "execution_count": 14,
     "metadata": {},
     "output_type": "execute_result"
    }
   ],
   "source": [
    "%%time\n",
    "response = openai.ChatCompletion.create(model='gpt-4',\n",
    "                                        messages=[\n",
    "                                            # {'role': 'system', 'content': 'you must highlight the main idea of the text in simple words, translate into Russian'},\n",
    "                                            {'role': \"user\", \"content\": \"Выдели главную мысль и переведи на руссий язык текст: \" + div_block},\n",
    "                                        ])\n",
    "response['choices'][0]['message']['content']"
   ]
  },
  {
   "cell_type": "code",
   "execution_count": null,
   "id": "9de1b31f-97ed-42d5-83ea-9166c5f0fc6f",
   "metadata": {},
   "outputs": [],
   "source": []
  },
  {
   "cell_type": "code",
   "execution_count": null,
   "id": "d87c950c-7896-4cd4-9cd2-e3981791daf5",
   "metadata": {},
   "outputs": [],
   "source": []
  },
  {
   "cell_type": "code",
   "execution_count": null,
   "id": "28968232-3519-4fee-8af2-043ccdf38de4",
   "metadata": {},
   "outputs": [],
   "source": []
  }
 ],
 "metadata": {
  "kernelspec": {
   "display_name": "Python 3 (ipykernel)",
   "language": "python",
   "name": "python3"
  },
  "language_info": {
   "codemirror_mode": {
    "name": "ipython",
    "version": 3
   },
   "file_extension": ".py",
   "mimetype": "text/x-python",
   "name": "python",
   "nbconvert_exporter": "python",
   "pygments_lexer": "ipython3",
   "version": "3.10.11"
  }
 },
 "nbformat": 4,
 "nbformat_minor": 5
}
