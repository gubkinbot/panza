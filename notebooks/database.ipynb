{
 "cells": [
  {
   "cell_type": "code",
   "execution_count": 1,
   "id": "fd89bd95-bc9e-4b84-a8f2-1cb2477034d5",
   "metadata": {
    "execution": {
     "iopub.execute_input": "2023-07-04T17:40:48.465053Z",
     "iopub.status.busy": "2023-07-04T17:40:48.465053Z",
     "iopub.status.idle": "2023-07-04T17:40:48.638259Z",
     "shell.execute_reply": "2023-07-04T17:40:48.638259Z",
     "shell.execute_reply.started": "2023-07-04T17:40:48.465053Z"
    }
   },
   "outputs": [],
   "source": [
    "import mysql.connector\n",
    "import datetime\n",
    "import os"
   ]
  },
  {
   "cell_type": "code",
   "execution_count": 2,
   "id": "fd088223-1c9f-42f4-9e3b-413579aa34be",
   "metadata": {
    "execution": {
     "iopub.execute_input": "2023-07-04T17:40:52.391217Z",
     "iopub.status.busy": "2023-07-04T17:40:52.387201Z",
     "iopub.status.idle": "2023-07-04T17:40:52.403203Z",
     "shell.execute_reply": "2023-07-04T17:40:52.403203Z",
     "shell.execute_reply.started": "2023-07-04T17:40:52.391217Z"
    }
   },
   "outputs": [],
   "source": [
    "host = os.getenv('DB_HOST')\n",
    "database = os.getenv('DB_DB')\n",
    "user = os.getenv('DB_USER')\n",
    "password = os.getenv('DB_PASSWORD')"
   ]
  },
  {
   "cell_type": "code",
   "execution_count": 7,
   "id": "86bef71a-5c41-4816-bdaa-9020ee4c1fea",
   "metadata": {
    "execution": {
     "iopub.execute_input": "2023-07-04T17:41:11.926874Z",
     "iopub.status.busy": "2023-07-04T17:41:11.926874Z",
     "iopub.status.idle": "2023-07-04T17:41:12.210163Z",
     "shell.execute_reply": "2023-07-04T17:41:12.210163Z",
     "shell.execute_reply.started": "2023-07-04T17:41:11.926874Z"
    }
   },
   "outputs": [],
   "source": [
    "connection = mysql.connector.connect(\n",
    "    host=host,\n",
    "    database=database,\n",
    "    user=user,\n",
    "    password=password\n",
    ")\n",
    "\n",
    "cursor = connection.cursor()\n",
    "\n",
    "sql = \"INSERT INTO users (user_id, date_reg, access, date_last_activity) VALUES (%s, %s, %s, %s)\"\n",
    "values = (234564, datetime.datetime.now(), 0, datetime.datetime.now())\n",
    " \t \t \t \n",
    "cursor.execute(sql, values)\n",
    "\n",
    "connection.commit()\n",
    "\n",
    "cursor.close()\n",
    "connection.close()"
   ]
  },
  {
   "cell_type": "code",
   "execution_count": 1,
   "id": "c4c709f6-d0c3-4054-bfe6-7ec0568e81e4",
   "metadata": {
    "execution": {
     "iopub.execute_input": "2023-07-04T17:31:09.867544Z",
     "iopub.status.busy": "2023-07-04T17:31:09.867544Z",
     "iopub.status.idle": "2023-07-04T17:31:09.883181Z",
     "shell.execute_reply": "2023-07-04T17:31:09.883181Z",
     "shell.execute_reply.started": "2023-07-04T17:31:09.867544Z"
    }
   },
   "outputs": [],
   "source": []
  }
 ],
 "metadata": {
  "kernelspec": {
   "display_name": "Python 3 (ipykernel)",
   "language": "python",
   "name": "python3"
  },
  "language_info": {
   "codemirror_mode": {
    "name": "ipython",
    "version": 3
   },
   "file_extension": ".py",
   "mimetype": "text/x-python",
   "name": "python",
   "nbconvert_exporter": "python",
   "pygments_lexer": "ipython3",
   "version": "3.10.11"
  }
 },
 "nbformat": 4,
 "nbformat_minor": 5
}
