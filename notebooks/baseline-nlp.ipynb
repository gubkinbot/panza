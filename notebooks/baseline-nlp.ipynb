{
 "cells": [
  {
   "cell_type": "code",
   "execution_count": 1,
   "id": "243bef0c-6f8f-47ac-be1e-4c1db4d386ee",
   "metadata": {
    "execution": {
     "iopub.execute_input": "2023-06-16T18:28:08.447553Z",
     "iopub.status.busy": "2023-06-16T18:28:08.447553Z",
     "iopub.status.idle": "2023-06-16T18:28:08.526434Z",
     "shell.execute_reply": "2023-06-16T18:28:08.526434Z",
     "shell.execute_reply.started": "2023-06-16T18:28:08.447553Z"
    }
   },
   "outputs": [],
   "source": [
    "import Levenshtein\n",
    "import re\n",
    "import random"
   ]
  },
  {
   "cell_type": "code",
   "execution_count": 2,
   "id": "7d7aa65d-8789-4551-85ad-0f7526a60dc3",
   "metadata": {
    "execution": {
     "iopub.execute_input": "2023-06-16T18:28:08.526434Z",
     "iopub.status.busy": "2023-06-16T18:28:08.526434Z",
     "iopub.status.idle": "2023-06-16T18:28:08.542058Z",
     "shell.execute_reply": "2023-06-16T18:28:08.542058Z",
     "shell.execute_reply.started": "2023-06-16T18:28:08.526434Z"
    }
   },
   "outputs": [],
   "source": [
    "topics = {\n",
    "    'как дела в столовой': 1,\n",
    "    'какая очередь в столовой': 1,\n",
    "    'стоит ли идти за кофе': 2,\n",
    "    'можно пойти пить кофе': 2,\n",
    "}"
   ]
  },
  {
   "cell_type": "code",
   "execution_count": 3,
   "id": "aacead17-e413-4ffe-af54-990bdef38924",
   "metadata": {
    "execution": {
     "iopub.execute_input": "2023-06-16T18:28:08.542058Z",
     "iopub.status.busy": "2023-06-16T18:28:08.542058Z",
     "iopub.status.idle": "2023-06-16T18:28:08.557661Z",
     "shell.execute_reply": "2023-06-16T18:28:08.557661Z",
     "shell.execute_reply.started": "2023-06-16T18:28:08.542058Z"
    }
   },
   "outputs": [],
   "source": [
    "typical_answers = {\n",
    "    1: ['Все хорошо, можно идти. В очереди 1 человек', 'В буфете пустота. Самое время выпить кофе'],\n",
    "    2: ['Конечно, стоит. В буфете всего 1 балл пробок', 'Лучше сейчас не идти. Все стоит, а ты посиди'],\n",
    "}"
   ]
  },
  {
   "cell_type": "code",
   "execution_count": 4,
   "id": "c73d44fa-3c2a-4034-aea0-42655111fc78",
   "metadata": {
    "execution": {
     "iopub.execute_input": "2023-06-16T18:28:08.636162Z",
     "iopub.status.busy": "2023-06-16T18:28:08.636162Z",
     "iopub.status.idle": "2023-06-16T18:28:08.651794Z",
     "shell.execute_reply": "2023-06-16T18:28:08.651794Z",
     "shell.execute_reply.started": "2023-06-16T18:28:08.636162Z"
    }
   },
   "outputs": [],
   "source": [
    "def answering_machine(question):\n",
    "    question = question.lower()\n",
    "    question = re.sub('[^а-я ]', '', question) # оставляем только символы\n",
    "    question = re.sub(r'\\s+', ' ', question) # удаляем лишние пробелы\n",
    "    question = re.sub(r'еее+', 'е', question) # удаляем протяжные гласные\n",
    "    question = re.sub(r'иии+', 'и', question) # удаляем протяжные гласные\n",
    "    question = re.sub(r'ааа+', 'а', question) # удаляем протяжные гласные\n",
    "    question = re.sub(r'ооо+', 'о', question) # удаляем протяжные гласные\n",
    "    for phrase in topics.keys():\n",
    "        if Levenshtein.distance(phrase, question) <= 1: # находим примитивный вопрос\n",
    "            return random.choice(typical_answers[topics[phrase]]) # отвечаем примитивным ответом\n",
    "    return False"
   ]
  },
  {
   "cell_type": "code",
   "execution_count": 5,
   "id": "7cc3be39-f9e2-430b-9005-1f663da5f350",
   "metadata": {
    "execution": {
     "iopub.execute_input": "2023-06-16T18:28:09.860227Z",
     "iopub.status.busy": "2023-06-16T18:28:09.860227Z",
     "iopub.status.idle": "2023-06-16T18:28:09.891980Z",
     "shell.execute_reply": "2023-06-16T18:28:09.891980Z",
     "shell.execute_reply.started": "2023-06-16T18:28:09.860227Z"
    }
   },
   "outputs": [
    {
     "data": {
      "text/plain": [
       "'Все хорошо, можно идти. В очереди 1 человек'"
      ]
     },
     "execution_count": 5,
     "metadata": {},
     "output_type": "execute_result"
    }
   ],
   "source": [
    "answering_machine('какааааая очередь в столовой')"
   ]
  },
  {
   "cell_type": "code",
   "execution_count": null,
   "id": "f73b925f-0acf-4a00-8353-04ab416e7cfc",
   "metadata": {},
   "outputs": [],
   "source": []
  }
 ],
 "metadata": {
  "kernelspec": {
   "display_name": "Python 3 (ipykernel)",
   "language": "python",
   "name": "python3"
  },
  "language_info": {
   "codemirror_mode": {
    "name": "ipython",
    "version": 3
   },
   "file_extension": ".py",
   "mimetype": "text/x-python",
   "name": "python",
   "nbconvert_exporter": "python",
   "pygments_lexer": "ipython3",
   "version": "3.10.11"
  }
 },
 "nbformat": 4,
 "nbformat_minor": 5
}
