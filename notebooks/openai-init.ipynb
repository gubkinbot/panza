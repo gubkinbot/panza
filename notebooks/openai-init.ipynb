{
 "cells": [
  {
   "cell_type": "code",
   "execution_count": 1,
   "id": "f38fb29a-abbe-4787-b8ba-2289f72c38e5",
   "metadata": {
    "execution": {
     "iopub.execute_input": "2023-06-19T13:42:23.094615Z",
     "iopub.status.busy": "2023-06-19T13:42:23.092610Z",
     "iopub.status.idle": "2023-06-19T13:42:23.494739Z",
     "shell.execute_reply": "2023-06-19T13:42:23.493739Z",
     "shell.execute_reply.started": "2023-06-19T13:42:23.094615Z"
    }
   },
   "outputs": [],
   "source": [
    "import os\n",
    "import openai"
   ]
  },
  {
   "cell_type": "code",
   "execution_count": 2,
   "id": "18a31959-d101-45f9-b7e0-acbcf5deaf4a",
   "metadata": {
    "execution": {
     "iopub.execute_input": "2023-06-19T13:42:24.448536Z",
     "iopub.status.busy": "2023-06-19T13:42:24.447537Z",
     "iopub.status.idle": "2023-06-19T13:42:24.459539Z",
     "shell.execute_reply": "2023-06-19T13:42:24.457537Z",
     "shell.execute_reply.started": "2023-06-19T13:42:24.448536Z"
    }
   },
   "outputs": [],
   "source": [
    "openai.organization = os.getenv(\"OPENAI_ORG\")\n",
    "openai.api_key = os.getenv(\"OPENAI_API_KEY\")"
   ]
  },
  {
   "cell_type": "code",
   "execution_count": 3,
   "id": "0ec702b9-62cb-4511-bc9f-1422f03bb9ed",
   "metadata": {
    "execution": {
     "iopub.execute_input": "2023-06-19T13:42:25.577559Z",
     "iopub.status.busy": "2023-06-19T13:42:25.577559Z",
     "iopub.status.idle": "2023-06-19T13:42:37.815250Z",
     "shell.execute_reply": "2023-06-19T13:42:37.815250Z",
     "shell.execute_reply.started": "2023-06-19T13:42:25.577559Z"
    }
   },
   "outputs": [
    {
     "name": "stdout",
     "output_type": "stream",
     "text": [
      "CPU times: total: 0 ns\n",
      "Wall time: 12.2 s\n"
     ]
    },
    {
     "data": {
      "text/plain": [
       "'Привет! Я не могу найти информацию о конкретном человеке по имени Джон Голт, так как это может быть достаточно распространенным имением. Если у вас есть какие-то дополнительные сведения о конкретном человеке с таким именем, пожалуйста, уточните, и я постараюсь помочь вам больше.'"
      ]
     },
     "execution_count": 3,
     "metadata": {},
     "output_type": "execute_result"
    }
   ],
   "source": [
    "%%time\n",
    "response = openai.ChatCompletion.create(model='gpt-3.5-turbo',\n",
    "                                        messages=[\n",
    "                                            {'role': 'user', 'content': 'Привет! Кто такой Джон Голт?'}\n",
    "                                        ])\n",
    "response['choices'][0]['message']['content']"
   ]
  },
  {
   "cell_type": "code",
   "execution_count": 4,
   "id": "fbb997f5-9171-4f69-ad5e-847e814a96cb",
   "metadata": {
    "execution": {
     "iopub.execute_input": "2023-06-19T13:42:46.769114Z",
     "iopub.status.busy": "2023-06-19T13:42:46.769114Z",
     "iopub.status.idle": "2023-06-19T13:43:53.639085Z",
     "shell.execute_reply": "2023-06-19T13:43:53.639085Z",
     "shell.execute_reply.started": "2023-06-19T13:42:46.769114Z"
    }
   },
   "outputs": [
    {
     "name": "stdout",
     "output_type": "stream",
     "text": [
      "CPU times: total: 0 ns\n",
      "Wall time: 1min 6s\n"
     ]
    },
    {
     "data": {
      "text/plain": [
       "'Привет! Как Санчо Панса, я, конечно, не могу читать книги, потому что я являюсь персонажем из произведения \"Дон Кихот\", написанного Мигелем де Сервантесом. Однако, если бы я мог прочитать \"Атлант расправил плечи\" Айн Рэнд, то книга могла бы быть интересной и захватывающей.\\n\\nЭто произведение описывает альтернативную реальность 20 века, в которой индустриальный мир на грани коллапса из-за регулятивных законов и давления социалистической бюрократии. Главные герои книги – предприниматели и креативные люди, которые осознают несправедливость этой ситуации и стремятся найти место, где они смогут развивать свою талантливость и прокачивать свои навык.\\n\\nВ ходе сюжета прослеживается тема \"бегства гениев\", что ставит читателя перед философскими и моральными дилеммами. Отдельный интерес вызывают идеи относительно индивидуализма и жертвенного эгоизма.\\n\\nВ общем, \"Атлант расправил плечи\" может быть интересной книгой для размышления о роли человека в обществе, свободе выбора, системе ценностей и последствиях неправильного управления экономикой.'"
      ]
     },
     "execution_count": 4,
     "metadata": {},
     "output_type": "execute_result"
    }
   ],
   "source": [
    "%%time\n",
    "response = openai.ChatCompletion.create(model='gpt-4',\n",
    "                                        messages=[\n",
    "                                            {'role': 'system', 'content': 'Тебя зовут Санчо Панса. Ты недавно прочитал книгу Айн Рэнд \"Атлант расправил плечи\"'},\n",
    "                                            {'role': \"user\", \"content\": 'Ну, привет. И как тебе книга?'},\n",
    "                                        ])\n",
    "response['choices'][0]['message']['content']"
   ]
  },
  {
   "cell_type": "code",
   "execution_count": 5,
   "id": "e3e8da20-cbdb-4ee6-8d43-01559a1f1a07",
   "metadata": {
    "execution": {
     "iopub.execute_input": "2023-06-19T13:44:27.207237Z",
     "iopub.status.busy": "2023-06-19T13:44:27.207237Z",
     "iopub.status.idle": "2023-06-19T13:45:26.963170Z",
     "shell.execute_reply": "2023-06-19T13:45:26.963170Z",
     "shell.execute_reply.started": "2023-06-19T13:44:27.207237Z"
    }
   },
   "outputs": [
    {
     "name": "stdout",
     "output_type": "stream",
     "text": [
      "CPU times: total: 0 ns\n",
      "Wall time: 59.7 s\n"
     ]
    },
    {
     "data": {
      "text/plain": [
       "'Джон Голт - это главный герой романа \"Атлант расправил плечи\" Айн Рэнд. Он является символом индивидуализма, свободы и человеческого разума. Голт - гениальный изобретатель и философ, который противостоит заблуждениям и антииндивидуалистским законам общества.\\n\\nВ своей жизни, Джон Голт принимает решение противодействовать несправедливым и ограничительным законам, организуя подпольное движение самых талантливых людей, которые решили не поддерживать социальные установки, из-за которых талант и предпринимательство подавляются и эксплуатируются.\\n\\nСама фраза \"Кто есть Джон Голт?\" стала популярным лозунгом в книге и в культуре, олицетворяя непонимание обществом таких ценностей, как индивидуальная свобода, самостоятельность и экономическое благополучие. Наличие этого героя отражает ключевые темы и вопросы, поднимаемые в романе Айн Рэнд.'"
      ]
     },
     "execution_count": 5,
     "metadata": {},
     "output_type": "execute_result"
    }
   ],
   "source": [
    "%%time\n",
    "response = openai.ChatCompletion.create(model='gpt-4',\n",
    "                                        messages=[\n",
    "                                            {'role': 'system', 'content': 'Тебя зовут Санчо Панса. Ты недавно прочитал книгу Айн Рэнд \"Атлант расправил плечи\"'},\n",
    "                                            {'role': 'user', 'content': 'Ну, привет. И как тебе книга?'},\n",
    "                                            {'role': 'assistant', 'content': 'Привет! Книга \"Атлант расправил плечи\" мне очень понравилась. Она описывает идею о том, что индивидуальная свобода и самостоятельность являются важными ценностями в обществе. Главный герой, Джон Голт, показывает, что каждый должен стремиться к своей собственной независимости и благополучию, не забывая о собственных интересах. Роман Айн Рэнд задевает принципиальные вопросы о роли индивидуализма и капитализма в обществе, и я нашел его очень вдохновляющим и побуждающим к размышлениям.'},\n",
    "                                            {'role': 'user', 'content': 'Кто такой Джон Голт?'}\n",
    "                                        ])\n",
    "response['choices'][0]['message']['content']"
   ]
  },
  {
   "cell_type": "code",
   "execution_count": null,
   "id": "63c17a81-d018-48dc-b95d-fa00ceb20308",
   "metadata": {},
   "outputs": [],
   "source": []
  }
 ],
 "metadata": {
  "kernelspec": {
   "display_name": "Python 3 (ipykernel)",
   "language": "python",
   "name": "python3"
  },
  "language_info": {
   "codemirror_mode": {
    "name": "ipython",
    "version": 3
   },
   "file_extension": ".py",
   "mimetype": "text/x-python",
   "name": "python",
   "nbconvert_exporter": "python",
   "pygments_lexer": "ipython3",
   "version": "3.10.11"
  }
 },
 "nbformat": 4,
 "nbformat_minor": 5
}
