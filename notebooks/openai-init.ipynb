{
 "cells": [
  {
   "cell_type": "code",
   "execution_count": 2,
   "id": "2d899730-6e11-467c-9e31-61c57c68ff20",
   "metadata": {
    "execution": {
     "iopub.execute_input": "2023-06-15T18:05:46.452659Z",
     "iopub.status.busy": "2023-06-15T18:05:46.452659Z",
     "iopub.status.idle": "2023-06-15T18:05:53.443950Z",
     "shell.execute_reply": "2023-06-15T18:05:53.443950Z",
     "shell.execute_reply.started": "2023-06-15T18:05:46.452659Z"
    }
   },
   "outputs": [
    {
     "name": "stdout",
     "output_type": "stream",
     "text": [
      "Collecting openai\n",
      "  Using cached openai-0.27.8-py3-none-any.whl (73 kB)\n",
      "Requirement already satisfied: requests>=2.20 in c:\\users\\ivan\\onedrive\\panza\\venv\\lib\\site-packages (from openai) (2.31.0)\n",
      "Collecting tqdm (from openai)\n",
      "  Using cached tqdm-4.65.0-py3-none-any.whl (77 kB)\n",
      "Collecting aiohttp (from openai)\n",
      "  Using cached aiohttp-3.8.4-cp310-cp310-win_amd64.whl (319 kB)\n",
      "Requirement already satisfied: charset-normalizer<4,>=2 in c:\\users\\ivan\\onedrive\\panza\\venv\\lib\\site-packages (from requests>=2.20->openai) (3.1.0)\n",
      "Requirement already satisfied: idna<4,>=2.5 in c:\\users\\ivan\\onedrive\\panza\\venv\\lib\\site-packages (from requests>=2.20->openai) (3.4)\n",
      "Requirement already satisfied: urllib3<3,>=1.21.1 in c:\\users\\ivan\\onedrive\\panza\\venv\\lib\\site-packages (from requests>=2.20->openai) (2.0.3)\n",
      "Requirement already satisfied: certifi>=2017.4.17 in c:\\users\\ivan\\onedrive\\panza\\venv\\lib\\site-packages (from requests>=2.20->openai) (2023.5.7)\n",
      "Requirement already satisfied: attrs>=17.3.0 in c:\\users\\ivan\\onedrive\\panza\\venv\\lib\\site-packages (from aiohttp->openai) (23.1.0)\n",
      "Collecting multidict<7.0,>=4.5 (from aiohttp->openai)\n",
      "  Using cached multidict-6.0.4-cp310-cp310-win_amd64.whl (28 kB)\n",
      "Collecting async-timeout<5.0,>=4.0.0a3 (from aiohttp->openai)\n",
      "  Using cached async_timeout-4.0.2-py3-none-any.whl (5.8 kB)\n",
      "Collecting yarl<2.0,>=1.0 (from aiohttp->openai)\n",
      "  Using cached yarl-1.9.2-cp310-cp310-win_amd64.whl (61 kB)\n",
      "Collecting frozenlist>=1.1.1 (from aiohttp->openai)\n",
      "  Using cached frozenlist-1.3.3-cp310-cp310-win_amd64.whl (33 kB)\n",
      "Collecting aiosignal>=1.1.2 (from aiohttp->openai)\n",
      "  Using cached aiosignal-1.3.1-py3-none-any.whl (7.6 kB)\n",
      "Requirement already satisfied: colorama in c:\\users\\ivan\\onedrive\\panza\\venv\\lib\\site-packages (from tqdm->openai) (0.4.6)\n",
      "Installing collected packages: tqdm, multidict, frozenlist, async-timeout, yarl, aiosignal, aiohttp, openai\n",
      "Successfully installed aiohttp-3.8.4 aiosignal-1.3.1 async-timeout-4.0.2 frozenlist-1.3.3 multidict-6.0.4 openai-0.27.8 tqdm-4.65.0 yarl-1.9.2\n"
     ]
    }
   ],
   "source": [
    "! pip install openai"
   ]
  },
  {
   "cell_type": "code",
   "execution_count": 4,
   "id": "161fbcff-7c77-48b5-ac36-880940625673",
   "metadata": {
    "execution": {
     "iopub.execute_input": "2023-06-15T18:11:48.599879Z",
     "iopub.status.busy": "2023-06-15T18:11:48.599879Z",
     "iopub.status.idle": "2023-06-15T18:11:48.616016Z",
     "shell.execute_reply": "2023-06-15T18:11:48.615505Z",
     "shell.execute_reply.started": "2023-06-15T18:11:48.599879Z"
    }
   },
   "outputs": [],
   "source": [
    "os.getenv(\"OPENAI_API_KEY\")"
   ]
  },
  {
   "cell_type": "code",
   "execution_count": null,
   "id": "6c908f9b-a40b-495e-90ff-08083b20b0ac",
   "metadata": {},
   "outputs": [],
   "source": []
  },
  {
   "cell_type": "code",
   "execution_count": 3,
   "id": "f38fb29a-abbe-4787-b8ba-2289f72c38e5",
   "metadata": {
    "execution": {
     "iopub.execute_input": "2023-06-15T18:11:46.911281Z",
     "iopub.status.busy": "2023-06-15T18:11:46.911281Z",
     "iopub.status.idle": "2023-06-15T18:11:46.935942Z",
     "shell.execute_reply": "2023-06-15T18:11:46.935942Z",
     "shell.execute_reply.started": "2023-06-15T18:11:46.911281Z"
    }
   },
   "outputs": [],
   "source": [
    "import os\n",
    "import openai\n",
    "\n",
    "# # Load your API key from an environment variable or secret management service\n",
    "# openai.api_key = os.getenv(\"OPENAI_API_KEY\")\n",
    "\n",
    "# chat_completion = openai.ChatCompletion.create(model=\"gpt-3.5-turbo\", messages=[{\"role\": \"user\", \"content\": \"Hello world\"}])"
   ]
  }
 ],
 "metadata": {
  "kernelspec": {
   "display_name": "Python 3 (ipykernel)",
   "language": "python",
   "name": "python3"
  },
  "language_info": {
   "codemirror_mode": {
    "name": "ipython",
    "version": 3
   },
   "file_extension": ".py",
   "mimetype": "text/x-python",
   "name": "python",
   "nbconvert_exporter": "python",
   "pygments_lexer": "ipython3",
   "version": "3.10.11"
  }
 },
 "nbformat": 4,
 "nbformat_minor": 5
}
