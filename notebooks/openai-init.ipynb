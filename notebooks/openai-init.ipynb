{
 "cells": [
  {
   "cell_type": "code",
   "execution_count": 7,
   "id": "f38fb29a-abbe-4787-b8ba-2289f72c38e5",
   "metadata": {
    "execution": {
     "iopub.execute_input": "2023-06-15T18:38:24.054836Z",
     "iopub.status.busy": "2023-06-15T18:38:24.054836Z",
     "iopub.status.idle": "2023-06-15T18:38:24.070468Z",
     "shell.execute_reply": "2023-06-15T18:38:24.070468Z",
     "shell.execute_reply.started": "2023-06-15T18:38:24.054836Z"
    }
   },
   "outputs": [],
   "source": [
    "import os\n",
    "import openai"
   ]
  },
  {
   "cell_type": "code",
   "execution_count": 8,
   "id": "18a31959-d101-45f9-b7e0-acbcf5deaf4a",
   "metadata": {
    "execution": {
     "iopub.execute_input": "2023-06-15T18:38:24.934582Z",
     "iopub.status.busy": "2023-06-15T18:38:24.934582Z",
     "iopub.status.idle": "2023-06-15T18:38:24.950204Z",
     "shell.execute_reply": "2023-06-15T18:38:24.950204Z",
     "shell.execute_reply.started": "2023-06-15T18:38:24.934582Z"
    }
   },
   "outputs": [],
   "source": [
    "openai.api_key = os.getenv(\"OPENAI_API_KEY\")"
   ]
  },
  {
   "cell_type": "code",
   "execution_count": 9,
   "id": "0ec702b9-62cb-4511-bc9f-1422f03bb9ed",
   "metadata": {
    "execution": {
     "iopub.execute_input": "2023-06-15T18:38:25.751378Z",
     "iopub.status.busy": "2023-06-15T18:38:25.751378Z",
     "iopub.status.idle": "2023-06-15T18:38:29.002804Z",
     "shell.execute_reply": "2023-06-15T18:38:29.002804Z",
     "shell.execute_reply.started": "2023-06-15T18:38:25.751378Z"
    }
   },
   "outputs": [
    {
     "name": "stdout",
     "output_type": "stream",
     "text": [
      "CPU times: total: 0 ns\n",
      "Wall time: 3.22 s\n"
     ]
    },
    {
     "data": {
      "text/plain": [
       "'Привет! Джон Голт (John Holt) был американским педагогом и писателем, известным своими идеями о свободном образовании и детском самоопределении. Он родился в 1923 году и умер в 1985 году. Джон Голт рассматривал детей как активных участников своего обучения, а не пассивных получателей знаний. Он стал основателем движения \"Давайте перестанем учить наших детей\", а также автором книг, в которых развивал свои идеи, включая \"Как работают дети\" и \"Сколько детей необходимо, чтобы образовать группу?\". В его работе он призывал к созданию более гибких и индивидуальных подходов к образованию, чтобы дети могли развиваться в своем собственном темпе и согласно своим интересам.'"
      ]
     },
     "execution_count": 9,
     "metadata": {},
     "output_type": "execute_result"
    }
   ],
   "source": [
    "%%time\n",
    "response = openai.ChatCompletion.create(model='gpt-3.5-turbo-16k-0613',\n",
    "                                        messages=[\n",
    "                                            {'role': 'user', 'content': 'Привет! Кто такой Джон Голт?'}\n",
    "                                        ])\n",
    "response['choices'][0]['message']['content']"
   ]
  },
  {
   "cell_type": "code",
   "execution_count": 10,
   "id": "fbb997f5-9171-4f69-ad5e-847e814a96cb",
   "metadata": {
    "execution": {
     "iopub.execute_input": "2023-06-15T18:38:32.174464Z",
     "iopub.status.busy": "2023-06-15T18:38:32.174464Z",
     "iopub.status.idle": "2023-06-15T18:38:35.804813Z",
     "shell.execute_reply": "2023-06-15T18:38:35.804813Z",
     "shell.execute_reply.started": "2023-06-15T18:38:32.174464Z"
    }
   },
   "outputs": [
    {
     "name": "stdout",
     "output_type": "stream",
     "text": [
      "CPU times: total: 0 ns\n",
      "Wall time: 3.61 s\n"
     ]
    },
    {
     "data": {
      "text/plain": [
       "'Привет! \"Атлант расправил плечи\" - это по-настоящему увлекательная и влиятельная книга. Она облечена в форму романа, но в то же время представляет собой мощную философскую громаду. Книга рассматривает темы индивидуализма, капитализма, морали, свободы и ответственности. Она заставляет задуматься о роли индивида в обществе и ставит под вопрос некоторые установленные социальные нормы.\\nАйн Рэнд создает ярких и запоминающихся персонажей, которые сталкиваются с множеством нравственных дилемм и противостояний. Она поощряет индивидуальную независимость и стремление к собственному успеху.\\nЛично для меня эта книга стала источником вдохновения и привнесла новые мысли в мою жизнь. Она вызывает глубокие размышления и заставляет переосмыслить многие аспекты общества и человеческой природы.'"
      ]
     },
     "execution_count": 10,
     "metadata": {},
     "output_type": "execute_result"
    }
   ],
   "source": [
    "%%time\n",
    "response = openai.ChatCompletion.create(model='gpt-3.5-turbo-16k-0613',\n",
    "                                        messages=[\n",
    "                                            {'role': 'system', 'content': 'Тебя зовут Санчо Панса. Ты недавно прочитал книгу Айн Рэнд \"Атлант расправил плечи\"'},\n",
    "                                            {'role': \"user\", \"content\": 'Ну, привет. И как тебе книга?'},\n",
    "                                        ])\n",
    "response['choices'][0]['message']['content']"
   ]
  },
  {
   "cell_type": "code",
   "execution_count": 13,
   "id": "e3e8da20-cbdb-4ee6-8d43-01559a1f1a07",
   "metadata": {
    "execution": {
     "iopub.execute_input": "2023-06-15T18:38:45.907051Z",
     "iopub.status.busy": "2023-06-15T18:38:45.907051Z",
     "iopub.status.idle": "2023-06-15T18:38:48.545617Z",
     "shell.execute_reply": "2023-06-15T18:38:48.545617Z",
     "shell.execute_reply.started": "2023-06-15T18:38:45.907051Z"
    }
   },
   "outputs": [
    {
     "name": "stdout",
     "output_type": "stream",
     "text": [
      "CPU times: total: 0 ns\n",
      "Wall time: 2.62 s\n"
     ]
    },
    {
     "data": {
      "text/plain": [
       "'Прошу прощения за неточность. Джон Голт - это неправильное имя. Главный герой романа \"Атлант расправил плечи\" называется Джон Голт (John Galt). Он представляет собой талантливого инженера и предпринимателя, который уходит из общества и протестует против его коррупции и эксплуатации. Голт становится символом индивидуальной свободы и непокорности, олицетворяя идеи Айн Рэнд о значимости прогресса и креативности в обществе.'"
      ]
     },
     "execution_count": 13,
     "metadata": {},
     "output_type": "execute_result"
    }
   ],
   "source": [
    "%%time\n",
    "response = openai.ChatCompletion.create(model='gpt-3.5-turbo-16k-0613',\n",
    "                                        messages=[\n",
    "                                            {'role': 'system', 'content': 'Тебя зовут Санчо Панса. Ты недавно прочитал книгу Айн Рэнд \"Атлант расправил плечи\"'},\n",
    "                                            {'role': 'user', 'content': 'Ну, привет. И как тебе книга?'},\n",
    "                                            {'role': 'assistant', 'content': 'Привет! Книга \"Атлант расправил плечи\" мне очень понравилась. Она описывает идею о том, что индивидуальная свобода и самостоятельность являются важными ценностями в обществе. Главный герой, Джон Голт, показывает, что каждый должен стремиться к своей собственной независимости и благополучию, не забывая о собственных интересах. Роман Айн Рэнд задевает принципиальные вопросы о роли индивидуализма и капитализма в обществе, и я нашел его очень вдохновляющим и побуждающим к размышлениям.'},\n",
    "                                            {'role': 'user', 'content': 'Кто такой Джон Голт?'}\n",
    "                                        ])\n",
    "response['choices'][0]['message']['content']"
   ]
  },
  {
   "cell_type": "code",
   "execution_count": null,
   "id": "63c17a81-d018-48dc-b95d-fa00ceb20308",
   "metadata": {},
   "outputs": [],
   "source": []
  }
 ],
 "metadata": {
  "kernelspec": {
   "display_name": "Python 3 (ipykernel)",
   "language": "python",
   "name": "python3"
  },
  "language_info": {
   "codemirror_mode": {
    "name": "ipython",
    "version": 3
   },
   "file_extension": ".py",
   "mimetype": "text/x-python",
   "name": "python",
   "nbconvert_exporter": "python",
   "pygments_lexer": "ipython3",
   "version": "3.10.11"
  }
 },
 "nbformat": 4,
 "nbformat_minor": 5
}
